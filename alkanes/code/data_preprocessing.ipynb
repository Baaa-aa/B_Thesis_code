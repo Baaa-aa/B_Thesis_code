{
 "cells": [
  {
   "cell_type": "code",
   "execution_count": 2,
   "id": "47601ff4",
   "metadata": {},
   "outputs": [],
   "source": [
    "import pandas as pd\n",
    "import requests\n",
    "from time import sleep"
   ]
  },
  {
   "cell_type": "markdown",
   "id": "8b4e9312",
   "metadata": {},
   "source": [
    "# CRC data"
   ]
  },
  {
   "cell_type": "code",
   "execution_count": 4,
   "id": "944b8d3b",
   "metadata": {},
   "outputs": [],
   "source": [
    "df = pd.read_csv(\"../data/alkanes_CRC.csv\",sep=\";\")"
   ]
  },
  {
   "cell_type": "code",
   "execution_count": 5,
   "id": "767bda50",
   "metadata": {},
   "outputs": [
    {
     "data": {
      "text/html": [
       "<div>\n",
       "<style scoped>\n",
       "    .dataframe tbody tr th:only-of-type {\n",
       "        vertical-align: middle;\n",
       "    }\n",
       "\n",
       "    .dataframe tbody tr th {\n",
       "        vertical-align: top;\n",
       "    }\n",
       "\n",
       "    .dataframe thead th {\n",
       "        text-align: right;\n",
       "    }\n",
       "</style>\n",
       "<table border=\"1\" class=\"dataframe\">\n",
       "  <thead>\n",
       "    <tr style=\"text-align: right;\">\n",
       "      <th></th>\n",
       "      <th>name</th>\n",
       "      <th>boiling_point</th>\n",
       "      <th>SMILES</th>\n",
       "      <th>IUPAC_name</th>\n",
       "      <th>CID</th>\n",
       "      <th>molecular_formula</th>\n",
       "    </tr>\n",
       "  </thead>\n",
       "  <tbody>\n",
       "    <tr>\n",
       "      <th>0</th>\n",
       "      <td>Butane</td>\n",
       "      <td>-0.5</td>\n",
       "      <td>CCCC</td>\n",
       "      <td>butane</td>\n",
       "      <td>7843</td>\n",
       "      <td>C4H10</td>\n",
       "    </tr>\n",
       "    <tr>\n",
       "      <th>1</th>\n",
       "      <td>Dodecane</td>\n",
       "      <td>216.3</td>\n",
       "      <td>CCCCCCCCCCCC</td>\n",
       "      <td>dodecane</td>\n",
       "      <td>8182</td>\n",
       "      <td>C12H26</td>\n",
       "    </tr>\n",
       "    <tr>\n",
       "      <th>2</th>\n",
       "      <td>Propane</td>\n",
       "      <td>-42.1</td>\n",
       "      <td>CCC</td>\n",
       "      <td>propane</td>\n",
       "      <td>6334</td>\n",
       "      <td>C3H8</td>\n",
       "    </tr>\n",
       "    <tr>\n",
       "      <th>3</th>\n",
       "      <td>Ethane</td>\n",
       "      <td>-88.6</td>\n",
       "      <td>CC</td>\n",
       "      <td>ethane</td>\n",
       "      <td>6324</td>\n",
       "      <td>C2H6</td>\n",
       "    </tr>\n",
       "    <tr>\n",
       "      <th>4</th>\n",
       "      <td>5-Butyldocosane</td>\n",
       "      <td>244.0</td>\n",
       "      <td>CCCCCCCCCCCCCCCCCC(CCCC)CCCC</td>\n",
       "      <td>5-butyldocosane</td>\n",
       "      <td>143267</td>\n",
       "      <td>C26H54</td>\n",
       "    </tr>\n",
       "  </tbody>\n",
       "</table>\n",
       "</div>"
      ],
      "text/plain": [
       "              name  boiling_point                        SMILES  \\\n",
       "0           Butane           -0.5                          CCCC   \n",
       "1         Dodecane          216.3                  CCCCCCCCCCCC   \n",
       "2          Propane          -42.1                           CCC   \n",
       "3           Ethane          -88.6                            CC   \n",
       "4  5-Butyldocosane          244.0  CCCCCCCCCCCCCCCCCC(CCCC)CCCC   \n",
       "\n",
       "        IUPAC_name     CID molecular_formula  \n",
       "0           butane    7843             C4H10  \n",
       "1         dodecane    8182            C12H26  \n",
       "2          propane    6334              C3H8  \n",
       "3           ethane    6324              C2H6  \n",
       "4  5-butyldocosane  143267            C26H54  "
      ]
     },
     "execution_count": 5,
     "metadata": {},
     "output_type": "execute_result"
    }
   ],
   "source": [
    "df.head()"
   ]
  },
  {
   "cell_type": "code",
   "execution_count": 6,
   "id": "0e834867",
   "metadata": {},
   "outputs": [
    {
     "name": "stdout",
     "output_type": "stream",
     "text": [
      "['CCCC', 'CCCCCCCCCCCC', 'CCC', 'CC', 'CCCCCCCCCCCCCCCCCC(CCCC)CCCC', 'CCCCCCCCCCCC(CCCC)CCCCCCCCCC', 'CCCCCCCCCCC(CCCCCCCCCC)CCCCCCCCCC', 'CCC(CC)C(CC)CC', 'CCC(CC)(CC)CC', 'CC(C)C(C)C', 'CCC(C)(C)C', 'CCCCCC(C)(C)C', 'CCCCC(C)C(C)C', 'CCCC(C)CC(C)C', 'CCC(C)CCC(C)C', 'CC(C)CCCC(C)C', 'CCCCC(C)(C)CC', 'CCCC(C)C(C)CC', 'CCC(C)CC(C)CC', 'CCCC(C)(C)CCC', 'CCCCC(C)(C)C', 'CCCC(C)C(C)C', 'CCC(C)CC(C)C', 'CC(C)CCC(C)C', 'CCCC(C)(C)CC', 'CCC(C)C(C)CC', 'CC(C)C(C(C)C)C(C)C', 'CCCCCCC(C)(C)C', 'CCCCCC(C)C(C)C', 'CCCCC(C)CC(C)C', 'CCCC(C)CCC(C)C', 'CCC(C)CCCC(C)C', 'CC(C)CCCCC(C)C', 'CCCCC(C)C(C)CC', 'CCC(C)CCC(C)CC', 'CCCC(C)(C)C', 'CCC(C)C(C)C', 'CC(C)CC(C)C', 'CCC(C)(C)CC', 'CCCCCCCCCCCCCCCCCCCCCC', 'CCCCCCCCCCCCCCCCCCCCCCCCCCCCCCCC', 'CCCCCCCCCCCCCCCCCCCC', 'CCC(CC)C(C)(C)C', 'CCC(C)(CC)C(C)C', 'CCC(C(C)C)C(C)C', 'CCCCC(CC)CC', 'CCCC(CC)CCC', 'CCCC(CC)CC', 'CCCC(CC)C(C)C', 'CCCC(C)(CC)CC', 'CCC(C)C(CC)CC', 'CCC(CC)CC(C)C', 'CCC(CC)C(C)C', 'CCC(C)(CC)CC', 'CCCCCC(CC)CC', 'CCCCC(CC)CCC', 'CCC(CC)CC', 'CCCCCCCCCCCCCCCCCCCCC', 'CCCCCCCCCCCCCCCCCCCCCCCCCCCCCCC', 'CCCCCCCCCCCCCCCCCCCCCCCCCCC', 'CCCCCCCCCCCCCCCCC', 'CC(CC(C)(C)C)CC(C)(C)CC(C)(C)C', 'CCCCCCC', 'CCCCCCCCCCCCCCCCCCCCCCCCCC', 'CCCCCCCCCCCCCCCC', 'CC(C)CCCC(C)CCCC(C)CCCCC(C)CCCC(C)CCCC(C)C', 'CCCCCC', 'CC(C)C', 'CCCCCCCCC(C)C', 'CCCCCCCC(C)CC', 'CCCCCCC(C)CCC', 'CCCCCC(C)C', 'CCCCC(C)CC', 'CCCC(C)CCC', 'CCCCC(C)C', 'CCCC(C)CC', 'CCCCCCCC(C)C', 'CCCCCCC(C)CC', 'CCCCCC(C)CCC', 'CCCCC(C)CCCC', 'CCCCCCC(C)C', 'CCCCCC(C)CC', 'CCCCC(C)CCC', 'CCCC(C)C', 'CCC(C)CC', 'CCCCCCCCCC(C)C', 'CCCCCCCCC(C)CC', 'CCCCCCCCCCCCCCCCCCCCCCCCCCCCC', 'CCCCCCCCCCCCCCCCCCCCCCCCCCCCCCCCCCCCCCCCCCCCCCCCCCCCCCCCCCCCCCCCCCCCCCCCCCCCCCCCCCCCCCCCCC', 'CCCCCCCCCCCCCCCCCCC', 'CCCCCCCCCCCCCCCCCCCCCCCCCCCCCCCCCCCCCCCCCCCCCCCCCCCCCCCCCCCCCCCCCCCCCCCCCCCCCCCC', 'CCCCCCCCCCCCCCCCCCCCCCCCCCCC', 'CCCCCCCCCCCCCCCCCC', 'CCCCCCCC', 'CCCCCCCCCCCCCCCCCCCCCCCCCCCCCCCCCCCCCCCCCCCCCCCCCC', 'CCCCCCCCCCCCCCCCCCCCCCCCC', 'CCCCCCCCCCCCCCC', 'CC(CC(C)(C)C)CC(C)(C)C', 'CC(C)C(C)(C)C(C)(C)C', 'CC(C(C)(C)C)C(C)(C)C', 'CCCCC', 'CCCCCCCCCCCCCCCCCCCCCCCCCCCCCCCCCCC', 'CCCC(CCC)CCC', 'CCCCCCCCCCCCCCCCCCCCCCCC', 'CCCCCCCCCCCCCCCCCCCCCCCCCCCCCCCCCCCCCCCC', 'CCCCCCCCCCCCCC', 'CC(C)(C)C(C)(C)C', 'CCCC(C)(C)C(C)(C)C', 'CC(C)(C)CCC(C)(C)C', 'CCC(C)(C)C(C)(C)CC', 'CCC(C)(C)C(C)(C)C', 'CC(C)C(C)C(C)(C)C', 'CC(C)(C)CC(C)(C)C', 'CC(C)C(C)(C)C(C)C', 'CCCCCCCCCCCCCCCCCCCCCCCCCCCCCC', 'CCCCCCCCCCCCCCCCCCCCCCC', 'CC(C)C(C)(C)C', 'CC(C)CCCC(C)(C)C', 'CCC(C)(C)CCC(C)C', 'CCC(C)CC(C)(C)CC', 'CCC(C)C(C)C(C)CC', 'CCCC(C)C(C)(C)C', 'CCC(C)CC(C)(C)C', 'CC(C)CCC(C)(C)C', 'CCCC(C)(C)C(C)C', 'CCC(C)C(C)C(C)C', 'CC(C)CC(C)C(C)C', 'CCC(C)(C)CC(C)C', 'CCC(C)C(C)(C)CC', 'CCC(C)C(C)(C)C', 'CC(C)CC(C)(C)C', 'CCC(C)(C)C(C)C', 'CC(C)C(C)C(C)C', 'CCCCCCCCCCC', 'CCCCCCCCCC', 'CCCCCCCCC']\n",
      "['butane', 'dodecane', 'propane', 'ethane', '5-butyldocosane', '11-butyldocosane', '11-decylhenicosane', '3,4-diethylhexane', '3,3-diethylpentane', '2,3-dimethylbutane', '2,2-dimethylbutane', '2,2-dimethylheptane', '2,3-dimethylheptane', '2,4-dimethylheptane', '2,5-dimethylheptane', '2,6-dimethylheptane', '3,3-dimethylheptane', '3,4-dimethylheptane', '3,5-dimethylheptane', '4,4-dimethylheptane', '2,2-dimethylhexane', '2,3-dimethylhexane', '2,4-dimethylhexane', '2,5-dimethylhexane', '3,3-dimethylhexane', '3,4-dimethylhexane', '2,4-dimethyl-3-propan-2-ylpentane', '2,2-dimethyloctane', '2,3-dimethyloctane', '2,4-dimethyloctane', '2,5-dimethyloctane', '2,6-dimethyloctane', '2,7-dimethyloctane', '3,4-dimethyloctane', '3,6-dimethyloctane', '2,2-dimethylpentane', '2,3-dimethylpentane', '2,4-dimethylpentane', '3,3-dimethylpentane', 'docosane', 'dotriacontane', 'icosane', '3-ethyl-2,2-dimethylpentane', '3-ethyl-2,3-dimethylpentane', '3-ethyl-2,4-dimethylpentane', '3-ethylheptane', '4-ethylheptane', '3-ethylhexane', '3-ethyl-2-methylhexane', '3-ethyl-3-methylhexane', '3-ethyl-4-methylhexane', '4-ethyl-2-methylhexane', '3-ethyl-2-methylpentane', '3-ethyl-3-methylpentane', '3-ethyloctane', '4-ethyloctane', '3-ethylpentane', 'henicosane', 'hentriacontane', 'heptacosane', 'heptadecane', '2,2,4,4,6,8,8-heptamethylnonane', 'heptane', 'hexacosane', 'hexadecane', '2,6,10,15,19,23-hexamethyltetracosane', 'hexane', '2-methylpropane', '2-methyldecane', '3-methyldecane', '4-methyldecane', '2-methylheptane', '3-methylheptane', '4-methylheptane', '2-methylhexane', '3-methylhexane', '2-methylnonane', '3-methylnonane', '4-methylnonane', '5-methylnonane', '2-methyloctane', '3-methyloctane', '4-methyloctane', '2-methylpentane', '3-methylpentane', '2-methylundecane', '3-methylundecane', 'nonacosane', 'nonacontane', 'nonadecane', 'octacontane', 'octacosane', 'octadecane', 'octane', 'pentacontane', 'pentacosane', 'pentadecane', '2,2,4,6,6-pentamethylheptane', '2,2,3,3,4-pentamethylpentane', '2,2,3,4,4-pentamethylpentane', 'pentane', 'pentatriacontane', '4-propylheptane', 'tetracosane', 'tetracontane', 'tetradecane', '2,2,3,3-tetramethylbutane', '2,2,3,3-tetramethylhexane', '2,2,5,5-tetramethylhexane', '3,3,4,4-tetramethylhexane', '2,2,3,3-tetramethylpentane', '2,2,3,4-tetramethylpentane', '2,2,4,4-tetramethylpentane', '2,3,3,4-tetramethylpentane', 'triacontane', 'tricosane', '2,2,3-trimethylbutane', '2,2,6-trimethylheptane', '2,5,5-trimethylheptane', '3,3,5-trimethylheptane', '3,4,5-trimethylheptane', '2,2,3-trimethylhexane', '2,2,4-trimethylhexane', '2,2,5-trimethylhexane', '2,3,3-trimethylhexane', '2,3,4-trimethylhexane', '2,3,5-trimethylhexane', '2,4,4-trimethylhexane', '3,3,4-trimethylhexane', '2,2,3-trimethylpentane', '2,2,4-trimethylpentane', '2,3,3-trimethylpentane', '2,3,4-trimethylpentane', 'undecane', 'decane', 'nonane']\n",
      "['C4H10', 'C12H26', 'C3H8', 'C2H6', 'C26H54', 'C26H54', 'C31H64', 'C10H22', 'C9H20', 'C6H14', 'C6H14', 'C9H20', 'C9H20', 'C9H20', 'C9H20', 'C9H20', 'C9H20', 'C9H20', 'C9H20', 'C9H20', 'C8H18', 'C8H18', 'C8H18', 'C8H18', 'C8H18', 'C8H18', 'C10H22', 'C10H22', 'C10H22', 'C10H22', 'C10H22', 'C10H22', 'C10H22', 'C10H22', 'C10H22', 'C7H16', 'C7H16', 'C7H16', 'C7H16', 'C22H46', 'C32H66', 'C20H42', 'C9H20', 'C9H20', 'C9H20', 'C9H20', 'C9H20', 'C8H18', 'C9H20', 'C9H20', 'C9H20', 'C9H20', 'C8H18', 'C8H18', 'C10H22', 'C10H22', 'C7H16', 'C21H44', 'C31H64', 'C27H56', 'C17H36', 'C16H34', 'C7H16', 'C26H54', 'C16H34', 'C30H62', 'C6H14', 'C4H10', 'C11H24', 'C11H24', 'C11H24', 'C8H18', 'C8H18', 'C8H18', 'C7H16', 'C7H16', 'C10H22', 'C10H22', 'C10H22', 'C10H22', 'C9H20', 'C9H20', 'C9H20', 'C6H14', 'C6H14', 'C12H26', 'C12H26', 'C29H60', 'C90H182', 'C19H40', 'C80H162', 'C28H58', 'C18H38', 'C8H18', 'C50H102', 'C25H52', 'C15H32', 'C12H26', 'C10H22', 'C10H22', 'C5H12', 'C35H72', 'C10H22', 'C24H50', 'C40H82', 'C14H30', 'C8H18', 'C10H22', 'C10H22', 'C10H22', 'C9H20', 'C9H20', 'C9H20', 'C9H20', 'C30H62', 'C23H48', 'C7H16', 'C10H22', 'C10H22', 'C10H22', 'C10H22', 'C9H20', 'C9H20', 'C9H20', 'C9H20', 'C9H20', 'C9H20', 'C9H20', 'C9H20', 'C8H18', 'C8H18', 'C8H18', 'C8H18', 'C11H24', 'C10H22', 'C9H20']\n",
      "[7843, 8182, 6334, 6324, 143267, 139473, 143269, 88038, 14020, 6589, 6403, 14062, 26375, 16656, 16662, 14069, 520991, 13534, 13558, 136827, 11551, 11447, 11511, 11592, 11233, 11412, 518775, 85150, 23531, 92978, 139988, 16319, 14070, 85926, 85927, 11542, 11260, 7907, 11229, 12405, 11008, 8222, 28026, 28027, 14040, 51806, 16663, 12096, 86067, 18313, 18314, 18312, 11863, 14018, 79985, 85925, 12048, 12403, 12410, 11636, 12398, 20414, 8900, 12407, 11006, 8089, 8058, 6360, 23415, 92239, 17835, 11594, 11519, 11512, 11582, 11507, 13379, 22202, 28455, 27518, 18591, 16664, 16665, 7892, 7282, 23459, 13845, 12409, 18980672, 12401, 15043591, 12408, 11635, 356, 81067, 12406, 12391, 26058, 519302, 519303, 8003, 12413, 137855, 12592, 20149, 12389, 11675, 26057, 14067, 78849, 92723, 14462, 14058, 28028, 12535, 12534, 10044, 518457, 14478, 23544, 89304, 28021, 28022, 19041, 28023, 13533, 14045, 28024, 28025, 11255, 10907, 11215, 11269, 14257, 15600, 8141]\n"
     ]
    }
   ],
   "source": [
    "pugrest_prolog = \"https://pubchem.ncbi.nlm.nih.gov/rest/pug\"\n",
    "pugrest_operation = \"property/CanonicalSMILES,MolecularFormula,IUPACName\"\n",
    "pugrest_output = \"json\"\n",
    "\n",
    "smiles = []\n",
    "IUPACs = []\n",
    "formulas = []\n",
    "CIDs = []\n",
    "\n",
    "for i in range(df.shape[0]):\n",
    "    pugrest_input = \"compound/name/\" + df.iloc[i][\"name\"]\n",
    "    pugrest_url = \"/\".join( (pugrest_prolog, pugrest_input, pugrest_operation, pugrest_output))\n",
    "    res = requests.get(pugrest_url).json()\n",
    "    \n",
    "    smiles.append(res[\"PropertyTable\"][\"Properties\"][0][\"CanonicalSMILES\"])\n",
    "    IUPACs.append(res[\"PropertyTable\"][\"Properties\"][0][\"IUPACName\"])\n",
    "    formulas.append(res[\"PropertyTable\"][\"Properties\"][0][\"MolecularFormula\"])\n",
    "    CIDs.append(res[\"PropertyTable\"][\"Properties\"][0][\"CID\"])\n",
    "\n",
    "    sleep(1)\n",
    "\n",
    "print(smiles)\n",
    "print(IUPACs)\n",
    "print(formulas)\n",
    "print(CIDs)\n",
    "    "
   ]
  },
  {
   "cell_type": "code",
   "execution_count": 7,
   "id": "d8ffbd59",
   "metadata": {},
   "outputs": [
    {
     "data": {
      "text/html": [
       "<div>\n",
       "<style scoped>\n",
       "    .dataframe tbody tr th:only-of-type {\n",
       "        vertical-align: middle;\n",
       "    }\n",
       "\n",
       "    .dataframe tbody tr th {\n",
       "        vertical-align: top;\n",
       "    }\n",
       "\n",
       "    .dataframe thead th {\n",
       "        text-align: right;\n",
       "    }\n",
       "</style>\n",
       "<table border=\"1\" class=\"dataframe\">\n",
       "  <thead>\n",
       "    <tr style=\"text-align: right;\">\n",
       "      <th></th>\n",
       "      <th>name</th>\n",
       "      <th>boiling_point</th>\n",
       "      <th>SMILES</th>\n",
       "      <th>IUPAC_name</th>\n",
       "      <th>CID</th>\n",
       "      <th>molecular_formula</th>\n",
       "    </tr>\n",
       "  </thead>\n",
       "  <tbody>\n",
       "    <tr>\n",
       "      <th>0</th>\n",
       "      <td>Butane</td>\n",
       "      <td>-0.5</td>\n",
       "      <td>CCCC</td>\n",
       "      <td>butane</td>\n",
       "      <td>7843</td>\n",
       "      <td>C4H10</td>\n",
       "    </tr>\n",
       "    <tr>\n",
       "      <th>1</th>\n",
       "      <td>Dodecane</td>\n",
       "      <td>216.3</td>\n",
       "      <td>CCCCCCCCCCCC</td>\n",
       "      <td>dodecane</td>\n",
       "      <td>8182</td>\n",
       "      <td>C12H26</td>\n",
       "    </tr>\n",
       "    <tr>\n",
       "      <th>2</th>\n",
       "      <td>Propane</td>\n",
       "      <td>-42.1</td>\n",
       "      <td>CCC</td>\n",
       "      <td>propane</td>\n",
       "      <td>6334</td>\n",
       "      <td>C3H8</td>\n",
       "    </tr>\n",
       "    <tr>\n",
       "      <th>3</th>\n",
       "      <td>Ethane</td>\n",
       "      <td>-88.6</td>\n",
       "      <td>CC</td>\n",
       "      <td>ethane</td>\n",
       "      <td>6324</td>\n",
       "      <td>C2H6</td>\n",
       "    </tr>\n",
       "    <tr>\n",
       "      <th>4</th>\n",
       "      <td>5-Butyldocosane</td>\n",
       "      <td>244.0</td>\n",
       "      <td>CCCCCCCCCCCCCCCCCC(CCCC)CCCC</td>\n",
       "      <td>5-butyldocosane</td>\n",
       "      <td>143267</td>\n",
       "      <td>C26H54</td>\n",
       "    </tr>\n",
       "  </tbody>\n",
       "</table>\n",
       "</div>"
      ],
      "text/plain": [
       "              name  boiling_point                        SMILES  \\\n",
       "0           Butane           -0.5                          CCCC   \n",
       "1         Dodecane          216.3                  CCCCCCCCCCCC   \n",
       "2          Propane          -42.1                           CCC   \n",
       "3           Ethane          -88.6                            CC   \n",
       "4  5-Butyldocosane          244.0  CCCCCCCCCCCCCCCCCC(CCCC)CCCC   \n",
       "\n",
       "        IUPAC_name     CID molecular_formula  \n",
       "0           butane    7843             C4H10  \n",
       "1         dodecane    8182            C12H26  \n",
       "2          propane    6334              C3H8  \n",
       "3           ethane    6324              C2H6  \n",
       "4  5-butyldocosane  143267            C26H54  "
      ]
     },
     "execution_count": 7,
     "metadata": {},
     "output_type": "execute_result"
    }
   ],
   "source": [
    "df[\"SMILES\"] = smiles\n",
    "df[\"IUPAC_name\"] = IUPACs\n",
    "df[\"CID\"] = CIDs\n",
    "df[\"molecular_formula\"] = formulas\n",
    "\n",
    "df.head()"
   ]
  },
  {
   "cell_type": "code",
   "execution_count": 8,
   "id": "d9d44c86",
   "metadata": {},
   "outputs": [],
   "source": [
    "df.to_csv(\"../data/alkanes_CRC.csv\", sep=\";\",columns=[\"name\",\"boiling_point\",\"SMILES\",\"IUPAC_name\",\"CID\",\"molecular_formula\"],index=False)"
   ]
  },
  {
   "cell_type": "markdown",
   "id": "96ed3e8f",
   "metadata": {},
   "source": [
    "# Wiener's data"
   ]
  },
  {
   "cell_type": "code",
   "execution_count": 10,
   "id": "14fd4705",
   "metadata": {},
   "outputs": [
    {
     "name": "stdout",
     "output_type": "stream",
     "text": [
      "                  name  delta_bp  delta_w  delta_p  delta_bp_calc  dev\n",
      "0             n-Butane       0.0      0.0      0.0            0.0  0.0\n",
      "1      2-Methylpropane      11.2      1.0      1.0           11.6 -0.4\n",
      "2            n-Pentane       0.0      0.0      0.0            0.0  0.0\n",
      "3       2-Methylbutane       8.2      2.0      0.0            7.9  0.3\n",
      "4  2,2-Dimethylpropane      26.6      4.0      2.0           26.7 -0.1\n"
     ]
    }
   ],
   "source": [
    "with open(\"../data/wiener_table_ii.txt\", \"r\") as file:\n",
    "    data = [line.strip().replace(' .', ' 0.').replace(' -.',' -0.').split() for line in file]\n",
    "\n",
    "df_w_ii = pd.DataFrame(data)\n",
    "df_w_ii = df_w_ii.drop(columns=[6])\n",
    "df_w_ii[[1,2,3,4,5]]= df_w_ii[[1,2,3,4,5]].astype(float)\n",
    "\n",
    "df_w_ii.rename(columns={\n",
    "    0: 'name',\n",
    "    1: 'delta_bp',\n",
    "    2: 'delta_w',\n",
    "    3: 'delta_p',\n",
    "    4: 'delta_bp_calc',\n",
    "    5: 'dev'\n",
    "}, inplace=True)\n",
    "\n",
    "print(df_w_ii.head())\n"
   ]
  },
  {
   "cell_type": "code",
   "execution_count": 12,
   "id": "91166fc2",
   "metadata": {},
   "outputs": [
    {
     "name": "stdout",
     "output_type": "stream",
     "text": [
      "             name     bp  delta_w  delta_p  bp_calc  dev\n",
      "0        n-Nonane  150.8      0.0      0.0    150.8  0.0\n",
      "1  2-Methyloctane  143.3      6.0      0.0    143.5  0.2\n",
      "2  3-Methyloctane  144.2     10.0     -1.0    144.2  0.0\n",
      "3  4-MethyIoctane  142.5     12.0     -1.0    141.8 -0.7\n",
      "4  3-Ethylheptane  143.0     16.0     -2.0    142.5 -0.5\n"
     ]
    }
   ],
   "source": [
    "with open(\"../data/wiener_table_iii.txt\", \"r\") as file:\n",
    "    data = [line.strip().replace(' .', ' 0.').replace(' -.',' -0.').split() for line in file]\n",
    "\n",
    "df_w_iii = pd.DataFrame(data)\n",
    "df_w_iii = df_w_iii.drop(columns=[6,7])\n",
    "df_w_iii[[1,2,3,4,5]]= df_w_iii[[1,2,3,4,5]].astype(float)\n",
    "\n",
    "df_w_iii.rename(columns={\n",
    "    0: 'name',\n",
    "    1: 'bp',\n",
    "    2: 'delta_w',\n",
    "    3: 'delta_p',\n",
    "    4: 'bp_calc',\n",
    "    5: 'dev'\n",
    "}, inplace=True)\n",
    "\n",
    "print(df_w_iii.head())\n"
   ]
  },
  {
   "cell_type": "code",
   "execution_count": 13,
   "id": "3e095438",
   "metadata": {},
   "outputs": [
    {
     "name": "stdout",
     "output_type": "stream",
     "text": [
      "                 name  delta_w  delta_p  bp_calc\n",
      "0       3-Ethyloctane     20.0     -2.0    165.4\n",
      "1       4-Ethyioctane     24.0     -2.0    161.5\n",
      "2  2,2-Dimethyloctane     19.0      0.0    155.4\n",
      "3  2,3-Dimethyloctane     22.0     -2.0    163.4\n",
      "4  3,4-Dimethyloctane     28.0     -3.0    163.1\n"
     ]
    }
   ],
   "source": [
    "with open(\"../data/wiener_table_iv.txt\", \"r\") as file:\n",
    "    data = [line.strip().replace(' .', ' 0.').replace(' -.',' -0.').split() for line in file]\n",
    "\n",
    "df_w_iv = pd.DataFrame(data)\n",
    "df_w_iv[[1,2,3]]= df_w_iv[[1,2,3]].astype(float)\n",
    "\n",
    "df_w_iv.rename(columns={\n",
    "    0: 'name',\n",
    "    1: 'delta_w',\n",
    "    2: 'delta_p',\n",
    "    3: 'bp_calc',\n",
    "}, inplace=True)\n",
    "\n",
    "print(df_w_iv.head())"
   ]
  },
  {
   "cell_type": "code",
   "execution_count": 14,
   "id": "b95060b9",
   "metadata": {},
   "outputs": [],
   "source": [
    "df_w_ii.to_csv(\"../data/wieners_data_ii.csv\", sep=\";\",index=False)\n",
    "df_w_iii.to_csv(\"../data/wieners_data_iii.csv\", sep=\";\",index=False)\n",
    "df_w_iv.to_csv(\"../data/wieners_data_iv.csv\", sep=\";\",index=False)"
   ]
  },
  {
   "cell_type": "code",
   "execution_count": null,
   "id": "d7620af6",
   "metadata": {},
   "outputs": [],
   "source": []
  }
 ],
 "metadata": {
  "kernelspec": {
   "display_name": "BP",
   "language": "python",
   "name": "python3"
  },
  "language_info": {
   "codemirror_mode": {
    "name": "ipython",
    "version": 3
   },
   "file_extension": ".py",
   "mimetype": "text/x-python",
   "name": "python",
   "nbconvert_exporter": "python",
   "pygments_lexer": "ipython3",
   "version": "3.12.3"
  }
 },
 "nbformat": 4,
 "nbformat_minor": 5
}
