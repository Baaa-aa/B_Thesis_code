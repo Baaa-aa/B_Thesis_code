{
 "cells": [
  {
   "cell_type": "code",
   "execution_count": 1,
   "id": "6446cb23-7a24-4935-a93d-182daaaf94f2",
   "metadata": {},
   "outputs": [],
   "source": [
    "from rdkit import Chem\n",
    "import numpy as np\n",
    "import pandas as pd\n",
    "import requests\n",
    "from rdkit.Chem import Descriptors\n",
    "import matplotlib.pyplot as plt\n",
    "import numpy as np\n",
    "import seaborn as sb"
   ]
  },
  {
   "cell_type": "markdown",
   "id": "bea7be6d-258c-4fb0-bee0-ea713ce45895",
   "metadata": {},
   "source": [
    "## Load reaxys data"
   ]
  },
  {
   "cell_type": "code",
   "execution_count": 4,
   "id": "f218cf5d-5fa7-485b-a011-11a7c7a49523",
   "metadata": {},
   "outputs": [
    {
     "data": {
      "image/png": "[encoded data removed]",
      "text/html": [
       "<table><tr><td colspan=\"2\" style=\"text-align: center;\"><image src=\"data:image/png;base64,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\"></td></tr>\n",
       "<tr><th style=\"text-align: right\">IDE.XRN</th><td style=\"text-align: left\">1730718</td></tr>\n",
       "<tr><th style=\"text-align: right\">IDE.RN</th><td style=\"text-align: left\">74-98-6</td></tr>\n",
       "<tr><th style=\"text-align: right\">IDE.CN</th><td style=\"text-align: left\">propane</td></tr>\n",
       "<tr><th style=\"text-align: right\">IDE.LSF</th><td style=\"text-align: left\">(CH3)2CH2</td></tr>\n",
       "<tr><th style=\"text-align: right\">IDE.MF</th><td style=\"text-align: left\">C3H8</td></tr>\n",
       "<tr><th style=\"text-align: right\">IDE.MW</th><td style=\"text-align: left\">44.0965</td></tr>\n",
       "<tr><th style=\"text-align: right\">IDE.STYPE</th><td style=\"text-align: left\">acyclic</td></tr>\n",
       "<tr><th style=\"text-align: right\">IDE.INCHI</th><td style=\"text-align: left\">ATUOYWHBWRKTHZ-UHFFFAOYSA-N</td></tr>\n",
       "<tr><th style=\"text-align: right\">BP.BP</th><td style=\"text-align: left\">-42.07</td></tr>\n",
       "<tr><th style=\"text-align: right\">BP.citation</th><td style=\"text-align: left\">3748047; Article; Pdgar et al.; Analytical Chemistry; vol. 34; (1962); p. 1226,1227; |4100851; Article; Porteous; Blander; AIChE Journal; vol. 21; 3; (1975); p. 560 - 566; </td></tr>\n",
       "<tr><td colspan=\"2\" style=\"text-align: center\">Property list truncated.<br />Increase IPythonConsole.ipython_maxProperties (or set it to -1) to see more properties.</td></tr></table>"
      ],
      "text/plain": [
       "<rdkit.Chem.rdchem.Mol at 0x2638a22c970>"
      ]
     },
     "metadata": {},
     "output_type": "display_data"
    }
   ],
   "source": [
    "suppl = Chem.rdmolfiles.SDMolSupplier('../data/reaxys_dataset_full.sdf')\n",
    "mols = [mol for mol in suppl if mol]\n",
    "display(mols[1])"
   ]
  },
  {
   "cell_type": "markdown",
   "id": "1ecd5485-179a-4eb4-b49a-224407dae7da",
   "metadata": {},
   "source": [
    "### Filter data for molecules where the boiling point was measured at 760 torr and does not contain isotopes"
   ]
  },
  {
   "cell_type": "code",
   "execution_count": 5,
   "id": "b0f06abf-41bf-40f5-8a1a-de5b41b9276e",
   "metadata": {},
   "outputs": [],
   "source": [
    "mols_filtered = []\n",
    "for mol in mols:\n",
    "    try:\n",
    "        mol.GetProp('BP.BP')\n",
    "        mol.GetProp('BP.P')\n",
    "        mols_filtered.append(mol)\n",
    "    except:\n",
    "        pass"
   ]
  },
  {
   "cell_type": "code",
   "execution_count": 6,
   "id": "7859c9da-c6e3-4de2-9b93-5a8ff71f9b48",
   "metadata": {},
   "outputs": [],
   "source": [
    "mols_filtered = [mol for mol in mols_filtered if mol.GetProp('BP.P') == '760']"
   ]
  },
  {
   "cell_type": "code",
   "execution_count": 7,
   "id": "9697d35f-a81a-46fc-8a62-d5d9b0915e39",
   "metadata": {},
   "outputs": [],
   "source": [
    "mols_filtered = [mol for mol in mols_filtered if 'isotope' not in mol.GetProp('IDE.STYPE')]"
   ]
  },
  {
   "cell_type": "code",
   "execution_count": 8,
   "id": "a7e926c7-7e02-4d72-b5be-81d9427a6ff4",
   "metadata": {},
   "outputs": [
    {
     "data": {
      "text/plain": [
       "630"
      ]
     },
     "execution_count": 8,
     "metadata": {},
     "output_type": "execute_result"
    }
   ],
   "source": [
    "len(mols_filtered)"
   ]
  },
  {
   "cell_type": "code",
   "execution_count": 9,
   "id": "c0623fb3-1052-47ee-b17e-c0b213ddb24a",
   "metadata": {},
   "outputs": [],
   "source": [
    "def is_alkane(mol, print_reason = False):\n",
    "    if mol.HasSubstructMatch(Chem.MolFromSmarts('[!#6;!#1]')):\n",
    "        if print_reason: print(\"Atom that is not C or H\")\n",
    "        return False\n",
    "    elif mol.HasSubstructMatch(Chem.MolFromSmarts('*!-*')):\n",
    "        if print_reason: print(\"Bond, that is not single\")\n",
    "        return False\n",
    "    elif mol.HasSubstructMatch(Chem.MolFromSmarts('[*-]')):\n",
    "        if print_reason: print(\"Negative charge\")\n",
    "        return False\n",
    "    elif mol.HasSubstructMatch(Chem.MolFromSmarts('[*+]')):\n",
    "        if print_reason: print(\"Positive charge\")\n",
    "        return False\n",
    "    elif mol.HasSubstructMatch(Chem.MolFromSmarts('[R]')):\n",
    "        if print_reason: print(\"Cycle\")\n",
    "        return False\n",
    "    elif mol.HasSubstructMatch(Chem.MolFromSmarts('[13C,14C,8C,9C,10C,11C,15C,16C,17C,18C,19C,20C,21C,22C]')):\n",
    "        if print_reason: print(\"Carbon isotope\")\n",
    "        return False\n",
    "    elif mol.HasSubstructMatch(Chem.MolFromSmarts('[2H]')) or mol.HasSubstructMatch(Chem.MolFromSmarts('[3H]')):\n",
    "        if print_reason: print(\"Hydrogen isotope\")\n",
    "        return False\n",
    "    elif mol.HasSubstructMatch(Chem.MolFromSmarts('[C!X4]')):\n",
    "        if print_reason: print(\"Radical\")\n",
    "        return False\n",
    "    else: return True"
   ]
  },
  {
   "cell_type": "code",
   "execution_count": 10,
   "id": "77e94ff8-358c-4f0e-b0a4-5445ea934cef",
   "metadata": {},
   "outputs": [],
   "source": [
    "for mol in mols_filtered:\n",
    "    if not is_alkane(mol):\n",
    "        display(mol)"
   ]
  },
  {
   "cell_type": "markdown",
   "id": "d9580642-a198-46ca-a353-93e2b593d85a",
   "metadata": {},
   "source": [
    "### Calculate the average boiling point for each molecule (by InChIKey)"
   ]
  },
  {
   "cell_type": "code",
   "execution_count": 11,
   "id": "ecf7a701-e00a-4705-b0ba-0c316f2c3040",
   "metadata": {},
   "outputs": [
    {
     "name": "stdout",
     "output_type": "stream",
     "text": [
      "                      InChIKey  boiling_point\n",
      "0  ABYGSZMCWVXFCQ-UHFFFAOYSA-N       162.0000\n",
      "1  ACYHSTUWOQNWCX-UHFFFAOYSA-N       158.0000\n",
      "2  AEXMKKGTQYQZCS-UHFFFAOYSA-N        86.0560\n",
      "3  AFABGHUZZDYHJO-UHFFFAOYSA-N        60.2275\n",
      "4  AFELDWXNIFIYOC-UHFFFAOYSA-N       236.0000\n"
     ]
    }
   ],
   "source": [
    "data = []\n",
    "for mol in mols_filtered:\n",
    "    if mol is not None:\n",
    "        name = mol.GetProp('IDE.CN')\n",
    "        bp = mol.GetProp('BP.BP')\n",
    "        inchi = mol.GetProp('IDE.INCHI')\n",
    "        \n",
    "        try:\n",
    "            bp_value = float(bp) \n",
    "            data.append((bp_value, inchi))\n",
    "        except ValueError:\n",
    "            pass\n",
    "\n",
    "df = pd.DataFrame(data, columns=['boiling_point', 'InChIKey'])\n",
    "\n",
    "df_reaxys = df.groupby('InChIKey', as_index=False)['boiling_point'].mean()\n",
    "\n",
    "print(df_reaxys.head())"
   ]
  },
  {
   "cell_type": "markdown",
   "id": "1194cc2a-d275-41ea-9ca9-eee9d2e529e3",
   "metadata": {},
   "source": [
    "### Load CRC Handbook data"
   ]
  },
  {
   "cell_type": "code",
   "execution_count": 12,
   "id": "338803fa-f691-41c5-a2ae-e4ddc552f1e5",
   "metadata": {},
   "outputs": [
    {
     "data": {
      "text/html": [
       "<div>\n",
       "<style scoped>\n",
       "    .dataframe tbody tr th:only-of-type {\n",
       "        vertical-align: middle;\n",
       "    }\n",
       "\n",
       "    .dataframe tbody tr th {\n",
       "        vertical-align: top;\n",
       "    }\n",
       "\n",
       "    .dataframe thead th {\n",
       "        text-align: right;\n",
       "    }\n",
       "</style>\n",
       "<table border=\"1\" class=\"dataframe\">\n",
       "  <thead>\n",
       "    <tr style=\"text-align: right;\">\n",
       "      <th></th>\n",
       "      <th>name</th>\n",
       "      <th>boiling_point</th>\n",
       "      <th>SMILES</th>\n",
       "      <th>IUPAC_name</th>\n",
       "      <th>CID</th>\n",
       "      <th>molecular_formula</th>\n",
       "      <th>M1</th>\n",
       "      <th>M2</th>\n",
       "      <th>InChIKey</th>\n",
       "      <th>num_atoms</th>\n",
       "    </tr>\n",
       "  </thead>\n",
       "  <tbody>\n",
       "    <tr>\n",
       "      <th>0</th>\n",
       "      <td>Butane</td>\n",
       "      <td>-0.5</td>\n",
       "      <td>CCCC</td>\n",
       "      <td>butane</td>\n",
       "      <td>7843</td>\n",
       "      <td>C4H10</td>\n",
       "      <td>10</td>\n",
       "      <td>8</td>\n",
       "      <td>IJDNQMDRQITEOD-UHFFFAOYSA-N</td>\n",
       "      <td>4</td>\n",
       "    </tr>\n",
       "    <tr>\n",
       "      <th>1</th>\n",
       "      <td>Dodecane</td>\n",
       "      <td>216.3</td>\n",
       "      <td>CCCCCCCCCCCC</td>\n",
       "      <td>dodecane</td>\n",
       "      <td>8182</td>\n",
       "      <td>C12H26</td>\n",
       "      <td>42</td>\n",
       "      <td>40</td>\n",
       "      <td>SNRUBQQJIBEYMU-UHFFFAOYSA-N</td>\n",
       "      <td>12</td>\n",
       "    </tr>\n",
       "    <tr>\n",
       "      <th>2</th>\n",
       "      <td>Propane</td>\n",
       "      <td>-42.1</td>\n",
       "      <td>CCC</td>\n",
       "      <td>propane</td>\n",
       "      <td>6334</td>\n",
       "      <td>C3H8</td>\n",
       "      <td>6</td>\n",
       "      <td>4</td>\n",
       "      <td>ATUOYWHBWRKTHZ-UHFFFAOYSA-N</td>\n",
       "      <td>3</td>\n",
       "    </tr>\n",
       "    <tr>\n",
       "      <th>3</th>\n",
       "      <td>Ethane</td>\n",
       "      <td>-88.6</td>\n",
       "      <td>CC</td>\n",
       "      <td>ethane</td>\n",
       "      <td>6324</td>\n",
       "      <td>C2H6</td>\n",
       "      <td>2</td>\n",
       "      <td>1</td>\n",
       "      <td>OTMSDBZUPAUEDD-UHFFFAOYSA-N</td>\n",
       "      <td>2</td>\n",
       "    </tr>\n",
       "    <tr>\n",
       "      <th>4</th>\n",
       "      <td>5-Butyldocosane</td>\n",
       "      <td>244.0</td>\n",
       "      <td>CCCCCCCCCCCCCCCCCC(CCCC)CCCC</td>\n",
       "      <td>5-butyldocosane</td>\n",
       "      <td>143267</td>\n",
       "      <td>C26H54</td>\n",
       "      <td>100</td>\n",
       "      <td>100</td>\n",
       "      <td>CSRNPDQIQWQJCM-UHFFFAOYSA-N</td>\n",
       "      <td>26</td>\n",
       "    </tr>\n",
       "  </tbody>\n",
       "</table>\n",
       "</div>"
      ],
      "text/plain": [
       "              name  boiling_point                        SMILES  \\\n",
       "0           Butane           -0.5                          CCCC   \n",
       "1         Dodecane          216.3                  CCCCCCCCCCCC   \n",
       "2          Propane          -42.1                           CCC   \n",
       "3           Ethane          -88.6                            CC   \n",
       "4  5-Butyldocosane          244.0  CCCCCCCCCCCCCCCCCC(CCCC)CCCC   \n",
       "\n",
       "        IUPAC_name     CID molecular_formula   M1   M2  \\\n",
       "0           butane    7843             C4H10   10    8   \n",
       "1         dodecane    8182            C12H26   42   40   \n",
       "2          propane    6334              C3H8    6    4   \n",
       "3           ethane    6324              C2H6    2    1   \n",
       "4  5-butyldocosane  143267            C26H54  100  100   \n",
       "\n",
       "                      InChIKey  num_atoms  \n",
       "0  IJDNQMDRQITEOD-UHFFFAOYSA-N          4  \n",
       "1  SNRUBQQJIBEYMU-UHFFFAOYSA-N         12  \n",
       "2  ATUOYWHBWRKTHZ-UHFFFAOYSA-N          3  \n",
       "3  OTMSDBZUPAUEDD-UHFFFAOYSA-N          2  \n",
       "4  CSRNPDQIQWQJCM-UHFFFAOYSA-N         26  "
      ]
     },
     "execution_count": 12,
     "metadata": {},
     "output_type": "execute_result"
    }
   ],
   "source": [
    "df_crc = pd.read_csv('../data/alkanes_with_zagreb.csv', sep=';')\n",
    "df_crc.head()"
   ]
  },
  {
   "cell_type": "code",
   "execution_count": 13,
   "id": "4611dd27-f21b-457a-8107-360a3b902967",
   "metadata": {},
   "outputs": [],
   "source": [
    "for s in df_crc.SMILES:\n",
    "    if not is_alkane(Chem.MolFromSmiles(s)): display(s)"
   ]
  },
  {
   "cell_type": "markdown",
   "id": "a0f96160-5cab-4154-a64b-3c792a0ceee6",
   "metadata": {},
   "source": [
    "### Comparison of CRC and Reaxys"
   ]
  },
  {
   "cell_type": "markdown",
   "id": "4cbd10bc-e74c-4beb-9c57-62c51abf677f",
   "metadata": {},
   "source": [
    "#### Size"
   ]
  },
  {
   "cell_type": "code",
   "execution_count": 14,
   "id": "18fb5723-c6cd-4a75-b886-4d1e45378fd6",
   "metadata": {},
   "outputs": [],
   "source": [
    "df_common = df_reaxys.merge(df_crc, on='InChIKey', suffixes=('_reaxys', '_crc'))"
   ]
  },
  {
   "cell_type": "code",
   "execution_count": 15,
   "id": "83b74a4d-c699-4f3f-82f2-64887d737192",
   "metadata": {},
   "outputs": [],
   "source": [
    "df_comparison = df_common[['name', 'boiling_point_reaxys', 'boiling_point_crc']].copy()\n",
    "df_comparison['diff'] = df_comparison['boiling_point_crc'] - df_comparison['boiling_point_reaxys']"
   ]
  },
  {
   "cell_type": "code",
   "execution_count": 16,
   "id": "3ec4ef5c-6a8f-4ea6-9d55-13b921cdfc28",
   "metadata": {},
   "outputs": [
    {
     "name": "stdout",
     "output_type": "stream",
     "text": [
      "Mean difference:  -0.19744040094039972\n"
     ]
    },
    {
     "data": {
      "text/html": [
       "<div>\n",
       "<style scoped>\n",
       "    .dataframe tbody tr th:only-of-type {\n",
       "        vertical-align: middle;\n",
       "    }\n",
       "\n",
       "    .dataframe tbody tr th {\n",
       "        vertical-align: top;\n",
       "    }\n",
       "\n",
       "    .dataframe thead th {\n",
       "        text-align: right;\n",
       "    }\n",
       "</style>\n",
       "<table border=\"1\" class=\"dataframe\">\n",
       "  <thead>\n",
       "    <tr style=\"text-align: right;\">\n",
       "      <th></th>\n",
       "      <th>name</th>\n",
       "      <th>boiling_point_reaxys</th>\n",
       "      <th>boiling_point_crc</th>\n",
       "      <th>diff</th>\n",
       "    </tr>\n",
       "  </thead>\n",
       "  <tbody>\n",
       "    <tr>\n",
       "      <th>0</th>\n",
       "      <td>4-Propylheptane</td>\n",
       "      <td>162.0000</td>\n",
       "      <td>167.00</td>\n",
       "      <td>5.0000</td>\n",
       "    </tr>\n",
       "    <tr>\n",
       "      <th>1</th>\n",
       "      <td>3,3-Dimethylpentane</td>\n",
       "      <td>86.0560</td>\n",
       "      <td>86.00</td>\n",
       "      <td>-0.0560</td>\n",
       "    </tr>\n",
       "    <tr>\n",
       "      <th>2</th>\n",
       "      <td>2-Methylpentane</td>\n",
       "      <td>60.2275</td>\n",
       "      <td>60.21</td>\n",
       "      <td>-0.0175</td>\n",
       "    </tr>\n",
       "  </tbody>\n",
       "</table>\n",
       "</div>"
      ],
      "text/plain": [
       "                  name  boiling_point_reaxys  boiling_point_crc    diff\n",
       "0      4-Propylheptane              162.0000             167.00  5.0000\n",
       "1  3,3-Dimethylpentane               86.0560              86.00 -0.0560\n",
       "2      2-Methylpentane               60.2275              60.21 -0.0175"
      ]
     },
     "metadata": {},
     "output_type": "display_data"
    }
   ],
   "source": [
    "print('Mean difference: ', df_comparison['diff'].mean())\n",
    "display(df_comparison.head(3))"
   ]
  },
  {
   "cell_type": "code",
   "execution_count": 17,
   "id": "59b6f9c5-11b8-4ff0-8f43-19248f1d4f41",
   "metadata": {},
   "outputs": [
    {
     "name": "stdout",
     "output_type": "stream",
     "text": [
      "CRC size:  135\n",
      "Reaxys size:  298\n",
      "Number of molecules in common:  111\n"
     ]
    }
   ],
   "source": [
    "print('CRC size: ', df_crc.shape[0])\n",
    "print('Reaxys size: ', df_reaxys.shape[0])\n",
    "print('Number of molecules in common: ', df_common.shape[0])"
   ]
  },
  {
   "cell_type": "markdown",
   "id": "e01944ec-b322-4e49-8550-ea7d13f642f8",
   "metadata": {},
   "source": [
    "#### Molecular weight"
   ]
  },
  {
   "cell_type": "markdown",
   "id": "c408c350-d3cb-481e-9257-27a5d1093f04",
   "metadata": {},
   "source": [
    "Calculate molecular weights for both datasets"
   ]
  },
  {
   "cell_type": "code",
   "execution_count": 18,
   "id": "c796344f-7cf1-4cc9-9d36-59d9cb6db1db",
   "metadata": {},
   "outputs": [],
   "source": [
    "df_crc['Mol'] = df_crc['SMILES'].apply(Chem.MolFromSmiles)\n",
    "df_crc['MW'] = df_crc['Mol'].apply(lambda mol: Descriptors.MolWt(mol))"
   ]
  },
  {
   "cell_type": "code",
   "execution_count": 19,
   "id": "b10d7a08-c617-4f3f-94ba-8c161d95ce53",
   "metadata": {},
   "outputs": [],
   "source": [
    "def get_pubchem_data(inchikey):\n",
    "    url = f\"https://pubchem.ncbi.nlm.nih.gov/rest/pug/compound/inchikey/{inchikey}/property/CanonicalSMILES,IUPACName,MolecularFormula/JSON\"\n",
    "    response = requests.get(url).json()\n",
    "    data = response.get(\"PropertyTable\", {}).get(\"Properties\", [{}])[0]\n",
    "    return data.get(\"CanonicalSMILES\"), data.get(\"IUPACName\"), data.get(\"MolecularFormula\")\n",
    "    "
   ]
  },
  {
   "cell_type": "code",
   "execution_count": 20,
   "id": "dafd3246",
   "metadata": {},
   "outputs": [
    {
     "data": {
      "text/html": [
       "<div>\n",
       "<style scoped>\n",
       "    .dataframe tbody tr th:only-of-type {\n",
       "        vertical-align: middle;\n",
       "    }\n",
       "\n",
       "    .dataframe tbody tr th {\n",
       "        vertical-align: top;\n",
       "    }\n",
       "\n",
       "    .dataframe thead th {\n",
       "        text-align: right;\n",
       "    }\n",
       "</style>\n",
       "<table border=\"1\" class=\"dataframe\">\n",
       "  <thead>\n",
       "    <tr style=\"text-align: right;\">\n",
       "      <th></th>\n",
       "      <th>InChIKey</th>\n",
       "      <th>boiling_point</th>\n",
       "    </tr>\n",
       "  </thead>\n",
       "  <tbody>\n",
       "    <tr>\n",
       "      <th>0</th>\n",
       "      <td>ABYGSZMCWVXFCQ-UHFFFAOYSA-N</td>\n",
       "      <td>162.0000</td>\n",
       "    </tr>\n",
       "    <tr>\n",
       "      <th>1</th>\n",
       "      <td>ACYHSTUWOQNWCX-UHFFFAOYSA-N</td>\n",
       "      <td>158.0000</td>\n",
       "    </tr>\n",
       "    <tr>\n",
       "      <th>2</th>\n",
       "      <td>AEXMKKGTQYQZCS-UHFFFAOYSA-N</td>\n",
       "      <td>86.0560</td>\n",
       "    </tr>\n",
       "    <tr>\n",
       "      <th>3</th>\n",
       "      <td>AFABGHUZZDYHJO-UHFFFAOYSA-N</td>\n",
       "      <td>60.2275</td>\n",
       "    </tr>\n",
       "    <tr>\n",
       "      <th>4</th>\n",
       "      <td>AFELDWXNIFIYOC-UHFFFAOYSA-N</td>\n",
       "      <td>236.0000</td>\n",
       "    </tr>\n",
       "    <tr>\n",
       "      <th>...</th>\n",
       "      <td>...</td>\n",
       "      <td>...</td>\n",
       "    </tr>\n",
       "    <tr>\n",
       "      <th>293</th>\n",
       "      <td>ZRTXVJYJVBTXHE-UHFFFAOYSA-N</td>\n",
       "      <td>165.0000</td>\n",
       "    </tr>\n",
       "    <tr>\n",
       "      <th>294</th>\n",
       "      <td>ZTPLUCDDNLWAIC-UHFFFAOYSA-N</td>\n",
       "      <td>295.5000</td>\n",
       "    </tr>\n",
       "    <tr>\n",
       "      <th>295</th>\n",
       "      <td>ZUBZATZOEPUUQF-UHFFFAOYSA-N</td>\n",
       "      <td>142.5160</td>\n",
       "    </tr>\n",
       "    <tr>\n",
       "      <th>296</th>\n",
       "      <td>ZYQYQXNPWMWTDD-UHFFFAOYSA-N</td>\n",
       "      <td>240.0000</td>\n",
       "    </tr>\n",
       "    <tr>\n",
       "      <th>297</th>\n",
       "      <td>ZYURHZPYMFLWSH-UHFFFAOYSA-N</td>\n",
       "      <td>432.0000</td>\n",
       "    </tr>\n",
       "  </tbody>\n",
       "</table>\n",
       "<p>298 rows × 2 columns</p>\n",
       "</div>"
      ],
      "text/plain": [
       "                        InChIKey  boiling_point\n",
       "0    ABYGSZMCWVXFCQ-UHFFFAOYSA-N       162.0000\n",
       "1    ACYHSTUWOQNWCX-UHFFFAOYSA-N       158.0000\n",
       "2    AEXMKKGTQYQZCS-UHFFFAOYSA-N        86.0560\n",
       "3    AFABGHUZZDYHJO-UHFFFAOYSA-N        60.2275\n",
       "4    AFELDWXNIFIYOC-UHFFFAOYSA-N       236.0000\n",
       "..                           ...            ...\n",
       "293  ZRTXVJYJVBTXHE-UHFFFAOYSA-N       165.0000\n",
       "294  ZTPLUCDDNLWAIC-UHFFFAOYSA-N       295.5000\n",
       "295  ZUBZATZOEPUUQF-UHFFFAOYSA-N       142.5160\n",
       "296  ZYQYQXNPWMWTDD-UHFFFAOYSA-N       240.0000\n",
       "297  ZYURHZPYMFLWSH-UHFFFAOYSA-N       432.0000\n",
       "\n",
       "[298 rows x 2 columns]"
      ]
     },
     "execution_count": 20,
     "metadata": {},
     "output_type": "execute_result"
    }
   ],
   "source": [
    "df_reaxys"
   ]
  },
  {
   "cell_type": "code",
   "execution_count": 53,
   "id": "e98d7617-4fd2-4911-9737-ce51fd77a2d0",
   "metadata": {},
   "outputs": [],
   "source": [
    "df_reaxys['Mol'] = df_reaxys['SMILES'].apply(Chem.MolFromSmiles)\n",
    "df_reaxys['MW'] = df_reaxys['Mol'].apply(lambda mol: Descriptors.MolWt(mol))"
   ]
  },
  {
   "cell_type": "code",
   "execution_count": 54,
   "id": "a7836a59-8d56-4ae3-ae8b-43fd594259ce",
   "metadata": {},
   "outputs": [
    {
     "data": {
      "text/html": [
       "<div>\n",
       "<style scoped>\n",
       "    .dataframe tbody tr th:only-of-type {\n",
       "        vertical-align: middle;\n",
       "    }\n",
       "\n",
       "    .dataframe tbody tr th {\n",
       "        vertical-align: top;\n",
       "    }\n",
       "\n",
       "    .dataframe thead th {\n",
       "        text-align: right;\n",
       "    }\n",
       "</style>\n",
       "<table border=\"1\" class=\"dataframe\">\n",
       "  <thead>\n",
       "    <tr style=\"text-align: right;\">\n",
       "      <th></th>\n",
       "      <th>InChIKey</th>\n",
       "      <th>boiling_point</th>\n",
       "      <th>SMILES</th>\n",
       "      <th>IUPAC_Name</th>\n",
       "      <th>molecular_formula</th>\n",
       "      <th>Mol</th>\n",
       "      <th>MW</th>\n",
       "    </tr>\n",
       "  </thead>\n",
       "  <tbody>\n",
       "    <tr>\n",
       "      <th>0</th>\n",
       "      <td>ABYGSZMCWVXFCQ-UHFFFAOYSA-N</td>\n",
       "      <td>162.0000</td>\n",
       "      <td>CCCC(CCC)CCC</td>\n",
       "      <td>4-propylheptane</td>\n",
       "      <td>C10H22</td>\n",
       "      <td>&lt;rdkit.Chem.rdchem.Mol object at 0x0000028ACE4...</td>\n",
       "      <td>142.286</td>\n",
       "    </tr>\n",
       "    <tr>\n",
       "      <th>1</th>\n",
       "      <td>ACYHSTUWOQNWCX-UHFFFAOYSA-N</td>\n",
       "      <td>158.0000</td>\n",
       "      <td>CCCCC(C)C(C)(C)C</td>\n",
       "      <td>2,2,3-trimethylheptane</td>\n",
       "      <td>C10H22</td>\n",
       "      <td>&lt;rdkit.Chem.rdchem.Mol object at 0x0000028ACB4...</td>\n",
       "      <td>142.286</td>\n",
       "    </tr>\n",
       "    <tr>\n",
       "      <th>2</th>\n",
       "      <td>AEXMKKGTQYQZCS-UHFFFAOYSA-N</td>\n",
       "      <td>86.0560</td>\n",
       "      <td>CCC(C)(C)CC</td>\n",
       "      <td>3,3-dimethylpentane</td>\n",
       "      <td>C7H16</td>\n",
       "      <td>&lt;rdkit.Chem.rdchem.Mol object at 0x0000028ACB4...</td>\n",
       "      <td>100.205</td>\n",
       "    </tr>\n",
       "    <tr>\n",
       "      <th>3</th>\n",
       "      <td>AFABGHUZZDYHJO-UHFFFAOYSA-N</td>\n",
       "      <td>60.2275</td>\n",
       "      <td>CCCC(C)C</td>\n",
       "      <td>2-methylpentane</td>\n",
       "      <td>C6H14</td>\n",
       "      <td>&lt;rdkit.Chem.rdchem.Mol object at 0x0000028ACB4...</td>\n",
       "      <td>86.178</td>\n",
       "    </tr>\n",
       "    <tr>\n",
       "      <th>4</th>\n",
       "      <td>AFELDWXNIFIYOC-UHFFFAOYSA-N</td>\n",
       "      <td>236.0000</td>\n",
       "      <td>CCCCCCCCC(C)CC(C)C</td>\n",
       "      <td>2,4-dimethyldodecane</td>\n",
       "      <td>C14H30</td>\n",
       "      <td>&lt;rdkit.Chem.rdchem.Mol object at 0x0000028ACB4...</td>\n",
       "      <td>198.394</td>\n",
       "    </tr>\n",
       "  </tbody>\n",
       "</table>\n",
       "</div>"
      ],
      "text/plain": [
       "                      InChIKey  boiling_point              SMILES  \\\n",
       "0  ABYGSZMCWVXFCQ-UHFFFAOYSA-N       162.0000        CCCC(CCC)CCC   \n",
       "1  ACYHSTUWOQNWCX-UHFFFAOYSA-N       158.0000    CCCCC(C)C(C)(C)C   \n",
       "2  AEXMKKGTQYQZCS-UHFFFAOYSA-N        86.0560         CCC(C)(C)CC   \n",
       "3  AFABGHUZZDYHJO-UHFFFAOYSA-N        60.2275            CCCC(C)C   \n",
       "4  AFELDWXNIFIYOC-UHFFFAOYSA-N       236.0000  CCCCCCCCC(C)CC(C)C   \n",
       "\n",
       "               IUPAC_Name molecular_formula  \\\n",
       "0         4-propylheptane            C10H22   \n",
       "1  2,2,3-trimethylheptane            C10H22   \n",
       "2     3,3-dimethylpentane             C7H16   \n",
       "3         2-methylpentane             C6H14   \n",
       "4    2,4-dimethyldodecane            C14H30   \n",
       "\n",
       "                                                 Mol       MW  \n",
       "0  <rdkit.Chem.rdchem.Mol object at 0x0000028ACE4...  142.286  \n",
       "1  <rdkit.Chem.rdchem.Mol object at 0x0000028ACB4...  142.286  \n",
       "2  <rdkit.Chem.rdchem.Mol object at 0x0000028ACB4...  100.205  \n",
       "3  <rdkit.Chem.rdchem.Mol object at 0x0000028ACB4...   86.178  \n",
       "4  <rdkit.Chem.rdchem.Mol object at 0x0000028ACB4...  198.394  "
      ]
     },
     "execution_count": 54,
     "metadata": {},
     "output_type": "execute_result"
    }
   ],
   "source": [
    "df_reaxys.head()"
   ]
  },
  {
   "cell_type": "code",
   "execution_count": 11,
   "id": "845066d2-a100-4857-bd0f-c48ed4067718",
   "metadata": {},
   "outputs": [],
   "source": [
    "df_crc.to_csv(\"crc.csv\", sep=\";\",columns=[\"name\",\"boiling_point\",\"SMILES\",\"IUPAC_name\",\"CID\",\"molecular_formula\",\"M1\",\"M2\",\"num_atoms\",\"MW\", \"InChIKey\"],index=False)"
   ]
  },
  {
   "cell_type": "code",
   "execution_count": 57,
   "id": "79b867dc-02ca-4b14-b9de-75ea5875beff",
   "metadata": {},
   "outputs": [],
   "source": [
    "df_reaxys.to_csv(\"reaxys.csv\", sep=\";\",columns=[\"InChIKey\",\"boiling_point\",\"SMILES\",\"IUPAC_Name\",\"molecular_formula\",\"MW\"],index=False)"
   ]
  },
  {
   "cell_type": "code",
   "execution_count": 23,
   "id": "20480257",
   "metadata": {},
   "outputs": [],
   "source": [
    "df_crc = pd.read_csv('../data/crc.csv', sep=';')\n",
    "df_reaxys = pd.read_csv('../data/reaxys.csv', sep=';')\n",
    "\n",
    "df_crc['Mol'] = df_crc['SMILES'].apply(Chem.MolFromSmiles)\n",
    "df_reaxys['Mol'] = df_reaxys['SMILES'].apply(Chem.MolFromSmiles)"
   ]
  },
  {
   "cell_type": "code",
   "execution_count": 44,
   "id": "6eb45085-0426-4cd3-96e7-8980b2ddabfa",
   "metadata": {},
   "outputs": [
    {
     "data": {
      "image/png": "[encoded data removed]",
      "text/plain": [
       "<Figure size 1200x700 with 1 Axes>"
      ]
     },
     "metadata": {},
     "output_type": "display_data"
    }
   ],
   "source": [
    "bins = 200\n",
    "width = 6  # Width of each bar\n",
    "\n",
    "plt.figure(figsize=(12, 7))\n",
    "\n",
    "# Histogram data\n",
    "counts_reaxys, bin_edges = np.histogram(df_reaxys['MW'].dropna(), bins=bins)\n",
    "counts_crc, _ = np.histogram(df_crc['MW'].dropna(), bins=bin_edges)\n",
    "\n",
    "# Bar positions\n",
    "bin_centers = 0.5 * (bin_edges[:-1] + bin_edges[1:])\n",
    "x_reaxys = bin_centers - width / 2\n",
    "x_crc = bin_centers + width / 2\n",
    "\n",
    "# Plot bars with improved style\n",
    "plt.bar(x_reaxys, counts_reaxys, width=width, color='#4C72B0', alpha=0.9, label='Reaxys', edgecolor='white', linewidth=0.5)\n",
    "plt.bar(x_crc, counts_crc, width=width, color='#DD8452', alpha=0.9, label='CRC', edgecolor='white', linewidth=0.5)\n",
    "\n",
    "# Labels and title\n",
    "# plt.title('Distribution of molecular weights', fontsize=16, weight='bold')\n",
    "plt.xlabel('Molecular weight (g/mol)', fontsize=14)\n",
    "plt.ylabel('Number of compounds', fontsize=14)\n",
    "\n",
    "# Legend and grid\n",
    "plt.legend(frameon=False, fontsize=12)\n",
    "plt.grid(axis='y', alpha=0.3)\n",
    "\n",
    "# Ticks\n",
    "plt.xticks(fontsize=12)\n",
    "plt.yticks(fontsize=12)\n",
    "\n",
    "# Tight layout for saving/embedding\n",
    "plt.tight_layout()\n",
    "plt.savefig(\"../img/histogram_crc_reaxys_mw.svg\", format=\"svg\")\n",
    "plt.show()"
   ]
  },
  {
   "cell_type": "code",
   "execution_count": 55,
   "id": "d6971294",
   "metadata": {},
   "outputs": [
    {
     "name": "stdout",
     "output_type": "stream",
     "text": [
      "Common InChIKeys: 111\n",
      "Only in df_crc: 24\n",
      "Only in df_reaxys: 187\n"
     ]
    }
   ],
   "source": [
    "# Extract the InChIKey columns as sets\n",
    "set_crc = set(df_crc['InChIKey'])\n",
    "set_reaxys = set(df_reaxys['InChIKey'])\n",
    "\n",
    "# Common InChIKeys\n",
    "common = set_crc.intersection(set_reaxys)\n",
    "num_common = len(common)\n",
    "\n",
    "# Extra in each dataframe\n",
    "extra_crc = set_crc - set_reaxys\n",
    "extra_reaxys = set_reaxys - set_crc\n",
    "\n",
    "print(f\"Common InChIKeys: {num_common}\")\n",
    "print(f\"Only in df_crc: {len(extra_crc)}\")\n",
    "print(f\"Only in df_reaxys: {len(extra_reaxys)}\")\n"
   ]
  },
  {
   "cell_type": "code",
   "execution_count": 27,
   "id": "11e49001",
   "metadata": {},
   "outputs": [
    {
     "data": {
      "image/png": "[encoded data removed]",
      "text/plain": [
       "<Figure size 1000x600 with 1 Axes>"
      ]
     },
     "metadata": {},
     "output_type": "display_data"
    }
   ],
   "source": [
    "import matplotlib.pyplot as plt\n",
    "from matplotlib_venn import venn2\n",
    "\n",
    "# Your numbers\n",
    "common = 111\n",
    "only_crc = 24\n",
    "only_reaxys = 187\n",
    "\n",
    "plt.figure(figsize=(10, 6))\n",
    "\n",
    "v = venn2(\n",
    "    subsets=(only_crc, only_reaxys, common),\n",
    "    set_labels=('CRC', 'Reaxys'),\n",
    "    set_colors=(\"#DD8452\", \"#4C72B0\"),\n",
    "    alpha=0.8,\n",
    ")\n",
    "\n",
    "# Style the set labels\n",
    "for i, text in enumerate(v.set_labels):\n",
    "    text.set_fontsize(24)\n",
    "    text.set_fontweight('normal')\n",
    "    if i == 0:  # Shift the df_crc label (left set)\n",
    "        x, y = text.get_position()\n",
    "        text.set_position((x - 0.15, y+0.05))  # shift left by 0.1 units\n",
    "\n",
    "# Style subset labels (numbers inside)\n",
    "for text in v.subset_labels:\n",
    "    if text:\n",
    "        text.set_fontsize(24)\n",
    "        text.set_color(\"black\")\n",
    "\n",
    "# plt.title(\"InChIKey Overlap Between df_crc and df_reaxys\", fontsize=16, weight='bold')\n",
    "plt.tight_layout()\n",
    "plt.savefig(\"../img/venn_crc_reaxys.svg\", format=\"svg\")\n",
    "plt.show()\n"
   ]
  },
  {
   "cell_type": "markdown",
   "id": "c80f4105-64f5-4e32-be8c-a049d8975b5d",
   "metadata": {},
   "source": [
    "#### Branching"
   ]
  },
  {
   "cell_type": "code",
   "execution_count": 33,
   "id": "70e60585",
   "metadata": {},
   "outputs": [],
   "source": [
    "from rdkit import Chem\n",
    "import math\n",
    "\n",
    "def randic_index(mol):\n",
    "    index = 0.0\n",
    "    for bond in mol.GetBonds():\n",
    "        deg1 = bond.GetBeginAtom().GetDegree()\n",
    "        deg2 = bond.GetEndAtom().GetDegree()\n",
    "        index += 1.0 / math.sqrt(deg1 * deg2)\n",
    "    return index"
   ]
  },
  {
   "cell_type": "code",
   "execution_count": 34,
   "id": "cf04b6b5",
   "metadata": {},
   "outputs": [],
   "source": [
    "df_crc['RI'] = df_crc['Mol'].apply(randic_index)\n",
    "df_reaxys['RI'] = df_reaxys['Mol'].apply(randic_index)"
   ]
  },
  {
   "cell_type": "code",
   "execution_count": 40,
   "id": "36bd4f5c",
   "metadata": {},
   "outputs": [
    {
     "data": {
      "image/png": "[encoded data removed]",
      "text/plain": [
       "<Figure size 700x600 with 1 Axes>"
      ]
     },
     "metadata": {},
     "output_type": "display_data"
    }
   ],
   "source": [
    "import numpy as np\n",
    "import matplotlib.pyplot as plt\n",
    "\n",
    "bins = 20\n",
    "\n",
    "# Combine data\n",
    "data_reaxys = df_reaxys['RI'].dropna()\n",
    "data_crc = df_crc['RI'].dropna()\n",
    "combined = np.concatenate([data_reaxys, data_crc])\n",
    "\n",
    "# Calculate percentile bounds to zoom in on central data\n",
    "lower_bound = np.percentile(combined, 1)\n",
    "upper_bound = np.percentile(combined, 99)\n",
    "\n",
    "# Filter data within bounds\n",
    "filtered_reaxys = data_reaxys[(data_reaxys >= lower_bound) & (data_reaxys <= upper_bound)]\n",
    "filtered_crc = data_crc[(data_crc >= lower_bound) & (data_crc <= upper_bound)]\n",
    "\n",
    "# Histogram bins within range\n",
    "bin_edges = np.linspace(lower_bound, upper_bound, bins + 1)\n",
    "bin_width = bin_edges[1] - bin_edges[0]\n",
    "\n",
    "# Histogram counts\n",
    "counts_reaxys, _ = np.histogram(filtered_reaxys, bins=bin_edges)\n",
    "counts_crc, _ = np.histogram(filtered_crc, bins=bin_edges)\n",
    "\n",
    "bin_centers = 0.5 * (bin_edges[:-1] + bin_edges[1:])\n",
    "\n",
    "plt.figure(figsize=(7, 6))\n",
    "\n",
    "# Bar width for side-by-side bars\n",
    "bar_width = bin_width * 0.45\n",
    "\n",
    "plt.bar(bin_centers - bar_width/2, counts_reaxys, width=bar_width,\n",
    "    color='#4C72B0', alpha=1, label='Reaxys', edgecolor='white', linewidth=0.5)\n",
    "plt.bar(bin_centers + bar_width/2, counts_crc, width=bar_width,\n",
    "    color='#DD8452', alpha=1, label='CRC', edgecolor='white', linewidth=0.5)\n",
    "\n",
    "plt.xlabel('Randić Index', fontsize=14)\n",
    "plt.ylabel('Number of compounds', fontsize=14)\n",
    "plt.legend(frameon=False, fontsize=12)\n",
    "plt.grid(axis='y', alpha=0.3)\n",
    "plt.xticks(fontsize=12)\n",
    "plt.yticks(fontsize=12)\n",
    "plt.tight_layout()\n",
    "plt.savefig(\"../img/randic_index_histogram_2.svg\", format=\"svg\")\n",
    "plt.show()\n"
   ]
  }
 ],
 "metadata": {
  "kernelspec": {
   "display_name": "BP",
   "language": "python",
   "name": "python3"
  },
  "language_info": {
   "codemirror_mode": {
    "name": "ipython",
    "version": 3
   },
   "file_extension": ".py",
   "mimetype": "text/x-python",
   "name": "python",
   "nbconvert_exporter": "python",
   "pygments_lexer": "ipython3",
   "version": "3.12.3"
  }
 },
 "nbformat": 4,
 "nbformat_minor": 5
}
