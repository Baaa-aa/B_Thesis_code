{
 "cells": [
  {
   "cell_type": "code",
   "execution_count": 1,
   "id": "b2992a09-910a-4fb4-aa3e-11c5aacb3f42",
   "metadata": {},
   "outputs": [],
   "source": [
    "from rdkit import Chem\n",
    "from rdkit.Chem import Descriptors\n",
    "\n",
    "import numpy as np\n",
    "import pandas as pd\n",
    "import math\n",
    "\n",
    "from mordred import Calculator, descriptors\n",
    "\n",
    "import matplotlib.pyplot as plt\n",
    "import matplotlib\n",
    "%matplotlib inline\n",
    "import seaborn as sb\n",
    "\n",
    "from sklearn.preprocessing import PolynomialFeatures, StandardScaler\n",
    "from sklearn.metrics import root_mean_squared_error,r2_score,mean_absolute_error\n",
    "from sklearn.model_selection import train_test_split\n",
    "from sklearn.linear_model import LinearRegression, Lasso\n",
    "\n",
    "from tqdm import tqdm\n",
    "\n",
    "random_seed = 4568"
   ]
  },
  {
   "cell_type": "markdown",
   "id": "ec2d714d-34cf-4f58-aa11-c1f937272e47",
   "metadata": {},
   "source": [
    "# Calculate all descriptors"
   ]
  },
  {
   "cell_type": "code",
   "execution_count": 2,
   "id": "54e8902d-a4f5-44bb-9555-771173a1883a",
   "metadata": {},
   "outputs": [],
   "source": [
    "calc = Calculator(descriptors, ignore_3D=True)"
   ]
  },
  {
   "cell_type": "code",
   "execution_count": 3,
   "id": "467a4a6d-e547-49a5-8419-781e3f2e3b93",
   "metadata": {},
   "outputs": [
    {
     "data": {
      "text/plain": [
       "1613"
      ]
     },
     "execution_count": 3,
     "metadata": {},
     "output_type": "execute_result"
    }
   ],
   "source": [
    "len(calc.descriptors)"
   ]
  },
  {
   "cell_type": "code",
   "execution_count": 4,
   "id": "52d5b854-2cd9-4842-9e60-98c085de5402",
   "metadata": {},
   "outputs": [],
   "source": [
    "df = pd.read_csv('../data/crc.csv', sep=';', usecols=['IUPAC_name', 'SMILES', 'InChIKey', 'boiling_point'])\n",
    "df['Mol'] = df.SMILES.apply(Chem.MolFromSmiles)"
   ]
  },
  {
   "cell_type": "code",
   "execution_count": 5,
   "id": "b24cfcbe-7e46-4177-bf2a-b5de2c530a94",
   "metadata": {},
   "outputs": [
    {
     "data": {
      "text/html": [
       "<div>\n",
       "<style scoped>\n",
       "    .dataframe tbody tr th:only-of-type {\n",
       "        vertical-align: middle;\n",
       "    }\n",
       "\n",
       "    .dataframe tbody tr th {\n",
       "        vertical-align: top;\n",
       "    }\n",
       "\n",
       "    .dataframe thead th {\n",
       "        text-align: right;\n",
       "    }\n",
       "</style>\n",
       "<table border=\"1\" class=\"dataframe\">\n",
       "  <thead>\n",
       "    <tr style=\"text-align: right;\">\n",
       "      <th></th>\n",
       "      <th>boiling_point</th>\n",
       "      <th>SMILES</th>\n",
       "      <th>IUPAC_name</th>\n",
       "      <th>InChIKey</th>\n",
       "      <th>Mol</th>\n",
       "    </tr>\n",
       "  </thead>\n",
       "  <tbody>\n",
       "    <tr>\n",
       "      <th>0</th>\n",
       "      <td>-0.5</td>\n",
       "      <td>CCCC</td>\n",
       "      <td>butane</td>\n",
       "      <td>IJDNQMDRQITEOD-UHFFFAOYSA-N</td>\n",
       "      <td>&lt;rdkit.Chem.rdchem.Mol object at 0x000001CA524...</td>\n",
       "    </tr>\n",
       "    <tr>\n",
       "      <th>1</th>\n",
       "      <td>216.3</td>\n",
       "      <td>CCCCCCCCCCCC</td>\n",
       "      <td>dodecane</td>\n",
       "      <td>SNRUBQQJIBEYMU-UHFFFAOYSA-N</td>\n",
       "      <td>&lt;rdkit.Chem.rdchem.Mol object at 0x000001CA524...</td>\n",
       "    </tr>\n",
       "    <tr>\n",
       "      <th>2</th>\n",
       "      <td>-42.1</td>\n",
       "      <td>CCC</td>\n",
       "      <td>propane</td>\n",
       "      <td>ATUOYWHBWRKTHZ-UHFFFAOYSA-N</td>\n",
       "      <td>&lt;rdkit.Chem.rdchem.Mol object at 0x000001CA524...</td>\n",
       "    </tr>\n",
       "    <tr>\n",
       "      <th>3</th>\n",
       "      <td>-88.6</td>\n",
       "      <td>CC</td>\n",
       "      <td>ethane</td>\n",
       "      <td>OTMSDBZUPAUEDD-UHFFFAOYSA-N</td>\n",
       "      <td>&lt;rdkit.Chem.rdchem.Mol object at 0x000001CA524...</td>\n",
       "    </tr>\n",
       "    <tr>\n",
       "      <th>4</th>\n",
       "      <td>244.0</td>\n",
       "      <td>CCCCCCCCCCCCCCCCCC(CCCC)CCCC</td>\n",
       "      <td>5-butyldocosane</td>\n",
       "      <td>CSRNPDQIQWQJCM-UHFFFAOYSA-N</td>\n",
       "      <td>&lt;rdkit.Chem.rdchem.Mol object at 0x000001CA524...</td>\n",
       "    </tr>\n",
       "  </tbody>\n",
       "</table>\n",
       "</div>"
      ],
      "text/plain": [
       "   boiling_point                        SMILES       IUPAC_name  \\\n",
       "0           -0.5                          CCCC           butane   \n",
       "1          216.3                  CCCCCCCCCCCC         dodecane   \n",
       "2          -42.1                           CCC          propane   \n",
       "3          -88.6                            CC           ethane   \n",
       "4          244.0  CCCCCCCCCCCCCCCCCC(CCCC)CCCC  5-butyldocosane   \n",
       "\n",
       "                      InChIKey  \\\n",
       "0  IJDNQMDRQITEOD-UHFFFAOYSA-N   \n",
       "1  SNRUBQQJIBEYMU-UHFFFAOYSA-N   \n",
       "2  ATUOYWHBWRKTHZ-UHFFFAOYSA-N   \n",
       "3  OTMSDBZUPAUEDD-UHFFFAOYSA-N   \n",
       "4  CSRNPDQIQWQJCM-UHFFFAOYSA-N   \n",
       "\n",
       "                                                 Mol  \n",
       "0  <rdkit.Chem.rdchem.Mol object at 0x000001CA524...  \n",
       "1  <rdkit.Chem.rdchem.Mol object at 0x000001CA524...  \n",
       "2  <rdkit.Chem.rdchem.Mol object at 0x000001CA524...  \n",
       "3  <rdkit.Chem.rdchem.Mol object at 0x000001CA524...  \n",
       "4  <rdkit.Chem.rdchem.Mol object at 0x000001CA524...  "
      ]
     },
     "execution_count": 5,
     "metadata": {},
     "output_type": "execute_result"
    }
   ],
   "source": [
    "df.head()"
   ]
  },
  {
   "cell_type": "code",
   "execution_count": 6,
   "id": "6e301216-43bc-4499-a0c0-0a67ddd37822",
   "metadata": {},
   "outputs": [],
   "source": [
    "def calculate_descriptors(mol):\n",
    "    desc_values = calc(mol)\n",
    "    desc_dict = {}\n",
    "    \n",
    "    for d, v in desc_values.items():\n",
    "        try:\n",
    "            value = float(v)\n",
    "            # Check for NaN or infinity (overflow issues)\n",
    "            if np.isfinite(value):\n",
    "                desc_dict[str(d)] = value\n",
    "            else: # Replace with NaN\n",
    "                desc_dict[str(d)] = np.nan\n",
    "                \n",
    "        # Replace errors with NaN\n",
    "        except (ValueError, OverflowError, TypeError):\n",
    "            desc_dict[str(d)] = np.nan\n",
    "    \n",
    "    return desc_dict"
   ]
  },
  {
   "cell_type": "code",
   "execution_count": 7,
   "id": "2c220f66-4ae6-42f0-865a-03bb5741f5f4",
   "metadata": {},
   "outputs": [
    {
     "name": "stderr",
     "output_type": "stream",
     "text": [
      "c:\\Users\\barca\\miniconda3\\envs\\BP\\Lib\\site-packages\\numpy\\core\\fromnumeric.py:88: RuntimeWarning: overflow encountered in reduce\n",
      "  return ufunc.reduce(obj, axis, dtype, out, **passkwargs)\n"
     ]
    }
   ],
   "source": [
    "df_desc = df['Mol'].apply(calculate_descriptors).apply(pd.Series)"
   ]
  },
  {
   "cell_type": "code",
   "execution_count": 8,
   "id": "9a1293e0-323b-4c06-b499-d935884c8800",
   "metadata": {},
   "outputs": [
    {
     "data": {
      "text/html": [
       "<div>\n",
       "<style scoped>\n",
       "    .dataframe tbody tr th:only-of-type {\n",
       "        vertical-align: middle;\n",
       "    }\n",
       "\n",
       "    .dataframe tbody tr th {\n",
       "        vertical-align: top;\n",
       "    }\n",
       "\n",
       "    .dataframe thead th {\n",
       "        text-align: right;\n",
       "    }\n",
       "</style>\n",
       "<table border=\"1\" class=\"dataframe\">\n",
       "  <thead>\n",
       "    <tr style=\"text-align: right;\">\n",
       "      <th></th>\n",
       "      <th>ABC</th>\n",
       "      <th>ABCGG</th>\n",
       "      <th>nAcid</th>\n",
       "      <th>nBase</th>\n",
       "      <th>SpAbs_A</th>\n",
       "      <th>SpMax_A</th>\n",
       "      <th>SpDiam_A</th>\n",
       "      <th>SpAD_A</th>\n",
       "      <th>SpMAD_A</th>\n",
       "      <th>LogEE_A</th>\n",
       "      <th>...</th>\n",
       "      <th>SRW10</th>\n",
       "      <th>TSRW10</th>\n",
       "      <th>MW</th>\n",
       "      <th>AMW</th>\n",
       "      <th>WPath</th>\n",
       "      <th>WPol</th>\n",
       "      <th>Zagreb1</th>\n",
       "      <th>Zagreb2</th>\n",
       "      <th>mZagreb1</th>\n",
       "      <th>mZagreb2</th>\n",
       "    </tr>\n",
       "  </thead>\n",
       "  <tbody>\n",
       "    <tr>\n",
       "      <th>0</th>\n",
       "      <td>NaN</td>\n",
       "      <td>NaN</td>\n",
       "      <td>0.0</td>\n",
       "      <td>0.0</td>\n",
       "      <td>4.472136</td>\n",
       "      <td>1.618034</td>\n",
       "      <td>3.236068</td>\n",
       "      <td>4.472136</td>\n",
       "      <td>1.118034</td>\n",
       "      <td>2.155909</td>\n",
       "      <td>...</td>\n",
       "      <td>5.509388</td>\n",
       "      <td>22.328143</td>\n",
       "      <td>58.078250</td>\n",
       "      <td>4.148446</td>\n",
       "      <td>10.0</td>\n",
       "      <td>1.0</td>\n",
       "      <td>10.0</td>\n",
       "      <td>8.0</td>\n",
       "      <td>2.50</td>\n",
       "      <td>1.25</td>\n",
       "    </tr>\n",
       "    <tr>\n",
       "      <th>1</th>\n",
       "      <td>NaN</td>\n",
       "      <td>NaN</td>\n",
       "      <td>0.0</td>\n",
       "      <td>0.0</td>\n",
       "      <td>14.592460</td>\n",
       "      <td>1.941884</td>\n",
       "      <td>3.883767</td>\n",
       "      <td>14.592460</td>\n",
       "      <td>1.216038</td>\n",
       "      <td>3.291100</td>\n",
       "      <td>...</td>\n",
       "      <td>7.720018</td>\n",
       "      <td>38.766486</td>\n",
       "      <td>170.203451</td>\n",
       "      <td>4.479038</td>\n",
       "      <td>286.0</td>\n",
       "      <td>9.0</td>\n",
       "      <td>42.0</td>\n",
       "      <td>40.0</td>\n",
       "      <td>4.50</td>\n",
       "      <td>3.25</td>\n",
       "    </tr>\n",
       "    <tr>\n",
       "      <th>2</th>\n",
       "      <td>NaN</td>\n",
       "      <td>NaN</td>\n",
       "      <td>0.0</td>\n",
       "      <td>0.0</td>\n",
       "      <td>2.828427</td>\n",
       "      <td>1.414214</td>\n",
       "      <td>2.828427</td>\n",
       "      <td>2.828427</td>\n",
       "      <td>0.942809</td>\n",
       "      <td>1.849457</td>\n",
       "      <td>...</td>\n",
       "      <td>4.174387</td>\n",
       "      <td>17.310771</td>\n",
       "      <td>44.062600</td>\n",
       "      <td>4.005691</td>\n",
       "      <td>4.0</td>\n",
       "      <td>0.0</td>\n",
       "      <td>6.0</td>\n",
       "      <td>4.0</td>\n",
       "      <td>2.25</td>\n",
       "      <td>1.00</td>\n",
       "    </tr>\n",
       "  </tbody>\n",
       "</table>\n",
       "<p>3 rows × 1613 columns</p>\n",
       "</div>"
      ],
      "text/plain": [
       "   ABC  ABCGG  nAcid  nBase    SpAbs_A   SpMax_A  SpDiam_A     SpAD_A  \\\n",
       "0  NaN    NaN    0.0    0.0   4.472136  1.618034  3.236068   4.472136   \n",
       "1  NaN    NaN    0.0    0.0  14.592460  1.941884  3.883767  14.592460   \n",
       "2  NaN    NaN    0.0    0.0   2.828427  1.414214  2.828427   2.828427   \n",
       "\n",
       "    SpMAD_A   LogEE_A  ...     SRW10     TSRW10          MW       AMW  WPath  \\\n",
       "0  1.118034  2.155909  ...  5.509388  22.328143   58.078250  4.148446   10.0   \n",
       "1  1.216038  3.291100  ...  7.720018  38.766486  170.203451  4.479038  286.0   \n",
       "2  0.942809  1.849457  ...  4.174387  17.310771   44.062600  4.005691    4.0   \n",
       "\n",
       "   WPol  Zagreb1  Zagreb2  mZagreb1  mZagreb2  \n",
       "0   1.0     10.0      8.0      2.50      1.25  \n",
       "1   9.0     42.0     40.0      4.50      3.25  \n",
       "2   0.0      6.0      4.0      2.25      1.00  \n",
       "\n",
       "[3 rows x 1613 columns]"
      ]
     },
     "execution_count": 8,
     "metadata": {},
     "output_type": "execute_result"
    }
   ],
   "source": [
    "df_desc.head(3)"
   ]
  },
  {
   "cell_type": "code",
   "execution_count": 9,
   "id": "61f9a922-698f-41ef-879a-21c1448caa25",
   "metadata": {},
   "outputs": [
    {
     "name": "stdout",
     "output_type": "stream",
     "text": [
      "Number of NaN columns:  175\n",
      "['ABC', 'ABCGG', 'SpAbs_Dt', 'SpMax_Dt', 'SpDiam_Dt', 'SpAD_Dt', 'SpMAD_Dt', 'LogEE_Dt', 'SM1_Dt', 'VE1_Dt', 'VE2_Dt', 'VE3_Dt', 'VR1_Dt', 'VR2_Dt', 'VR3_Dt', 'DetourIndex', 'MAXsLi', 'MAXssBe', 'MAXssssBe', 'MAXssBH', 'MAXsssB', 'MAXssssB', 'MAXdCH2', 'MAXtCH', 'MAXdsCH', 'MAXaaCH', 'MAXddC', 'MAXtsC', 'MAXdssC', 'MAXaasC', 'MAXaaaC', 'MAXsNH3', 'MAXsNH2', 'MAXssNH2', 'MAXdNH', 'MAXssNH', 'MAXaaNH', 'MAXtN', 'MAXsssNH', 'MAXdsN', 'MAXaaN', 'MAXsssN', 'MAXddsN', 'MAXaasN', 'MAXssssN', 'MAXsOH', 'MAXdO', 'MAXssO', 'MAXaaO', 'MAXsF', 'MAXsSiH3', 'MAXssSiH2', 'MAXsssSiH', 'MAXssssSi', 'MAXsPH2', 'MAXssPH', 'MAXsssP', 'MAXdsssP', 'MAXsssssP', 'MAXsSH', 'MAXdS', 'MAXssS', 'MAXaaS', 'MAXdssS', 'MAXddssS', 'MAXsCl', 'MAXsGeH3', 'MAXssGeH2', 'MAXsssGeH', 'MAXssssGe', 'MAXsAsH2', 'MAXssAsH', 'MAXsssAs', 'MAXsssdAs', 'MAXsssssAs', 'MAXsSeH', 'MAXdSe', 'MAXssSe', 'MAXaaSe', 'MAXdssSe', 'MAXddssSe', 'MAXsBr', 'MAXsSnH3', 'MAXssSnH2', 'MAXsssSnH', 'MAXssssSn', 'MAXsI', 'MAXsPbH3', 'MAXssPbH2', 'MAXsssPbH', 'MAXssssPb', 'MINsLi', 'MINssBe', 'MINssssBe', 'MINssBH', 'MINsssB', 'MINssssB', 'MINdCH2', 'MINtCH', 'MINdsCH', 'MINaaCH', 'MINddC', 'MINtsC', 'MINdssC', 'MINaasC', 'MINaaaC', 'MINsNH3', 'MINsNH2', 'MINssNH2', 'MINdNH', 'MINssNH', 'MINaaNH', 'MINtN', 'MINsssNH', 'MINdsN', 'MINaaN', 'MINsssN', 'MINddsN', 'MINaasN', 'MINssssN', 'MINsOH', 'MINdO', 'MINssO', 'MINaaO', 'MINsF', 'MINsSiH3', 'MINssSiH2', 'MINsssSiH', 'MINssssSi', 'MINsPH2', 'MINssPH', 'MINsssP', 'MINdsssP', 'MINsssssP', 'MINsSH', 'MINdS', 'MINssS', 'MINaaS', 'MINdssS', 'MINddssS', 'MINsCl', 'MINsGeH3', 'MINssGeH2', 'MINsssGeH', 'MINssssGe', 'MINsAsH2', 'MINssAsH', 'MINsssAs', 'MINsssdAs', 'MINsssssAs', 'MINsSeH', 'MINdSe', 'MINssSe', 'MINaaSe', 'MINdssSe', 'MINddssSe', 'MINsBr', 'MINsSnH3', 'MINssSnH2', 'MINsssSnH', 'MINssssSn', 'MINsI', 'MINsPbH3', 'MINssPbH2', 'MINsssPbH', 'MINssssPb', 'MDEO-11', 'MDEO-12', 'MDEO-22', 'MDEN-11', 'MDEN-12', 'MDEN-13', 'MDEN-22', 'MDEN-23', 'MDEN-33']\n"
     ]
    }
   ],
   "source": [
    "# Remove columns where all rows are NaN values\n",
    "nan_columns = df_desc.columns[df_desc.isna().all()].tolist()\n",
    "print('Number of NaN columns: ', len(nan_columns))\n",
    "df_desc = df_desc.drop(columns=nan_columns)\n",
    "print(nan_columns)"
   ]
  },
  {
   "cell_type": "code",
   "execution_count": 10,
   "id": "c9052731-441c-4b64-884f-507e3e6f1489",
   "metadata": {},
   "outputs": [
    {
     "name": "stdout",
     "output_type": "stream",
     "text": [
      "270\n",
      "['AATS4dv', 'AATS5dv', 'AATS6dv', 'AATS7dv', 'AATS8dv', 'AATS4d', 'AATS5d', 'AATS6d', 'AATS7d', 'AATS8d', 'AATS4s', 'AATS5s', 'AATS6s', 'AATS7s', 'AATS8s', 'AATS4Z', 'AATS5Z', 'AATS6Z', 'AATS7Z', 'AATS8Z', 'AATS4m', 'AATS5m', 'AATS6m', 'AATS7m', 'AATS8m', 'AATS4v', 'AATS5v', 'AATS6v', 'AATS7v', 'AATS8v', 'AATS4se', 'AATS5se', 'AATS6se', 'AATS7se', 'AATS8se', 'AATS4pe', 'AATS5pe', 'AATS6pe', 'AATS7pe', 'AATS8pe', 'AATS4are', 'AATS5are', 'AATS6are', 'AATS7are', 'AATS8are', 'AATS4p', 'AATS5p', 'AATS6p', 'AATS7p', 'AATS8p', 'AATS4i', 'AATS5i', 'AATS6i', 'AATS7i', 'AATS8i', 'AATSC4c', 'AATSC5c', 'AATSC6c', 'AATSC7c', 'AATSC8c', 'AATSC4dv', 'AATSC5dv', 'AATSC6dv', 'AATSC7dv', 'AATSC8dv', 'AATSC4d', 'AATSC5d', 'AATSC6d', 'AATSC7d', 'AATSC8d', 'AATSC4s', 'AATSC5s', 'AATSC6s', 'AATSC7s', 'AATSC8s', 'AATSC4Z', 'AATSC5Z', 'AATSC6Z', 'AATSC7Z', 'AATSC8Z', 'AATSC4m', 'AATSC5m', 'AATSC6m', 'AATSC7m', 'AATSC8m', 'AATSC4v', 'AATSC5v', 'AATSC6v', 'AATSC7v', 'AATSC8v', 'AATSC4se', 'AATSC5se', 'AATSC6se', 'AATSC7se', 'AATSC8se', 'AATSC4pe', 'AATSC5pe', 'AATSC6pe', 'AATSC7pe', 'AATSC8pe', 'AATSC4are', 'AATSC5are', 'AATSC6are', 'AATSC7are', 'AATSC8are', 'AATSC4p', 'AATSC5p', 'AATSC6p', 'AATSC7p', 'AATSC8p', 'AATSC4i', 'AATSC5i', 'AATSC6i', 'AATSC7i', 'AATSC8i', 'MATS4c', 'MATS5c', 'MATS6c', 'MATS7c', 'MATS8c', 'MATS4dv', 'MATS5dv', 'MATS6dv', 'MATS7dv', 'MATS8dv', 'MATS1d', 'MATS2d', 'MATS3d', 'MATS4d', 'MATS5d', 'MATS6d', 'MATS7d', 'MATS8d', 'MATS4s', 'MATS5s', 'MATS6s', 'MATS7s', 'MATS8s', 'MATS4Z', 'MATS5Z', 'MATS6Z', 'MATS7Z', 'MATS8Z', 'MATS4m', 'MATS5m', 'MATS6m', 'MATS7m', 'MATS8m', 'MATS4v', 'MATS5v', 'MATS6v', 'MATS7v', 'MATS8v', 'MATS4se', 'MATS5se', 'MATS6se', 'MATS7se', 'MATS8se', 'MATS4pe', 'MATS5pe', 'MATS6pe', 'MATS7pe', 'MATS8pe', 'MATS4are', 'MATS5are', 'MATS6are', 'MATS7are', 'MATS8are', 'MATS4p', 'MATS5p', 'MATS6p', 'MATS7p', 'MATS8p', 'MATS4i', 'MATS5i', 'MATS6i', 'MATS7i', 'MATS8i', 'GATS4c', 'GATS5c', 'GATS6c', 'GATS7c', 'GATS8c', 'GATS4dv', 'GATS5dv', 'GATS6dv', 'GATS7dv', 'GATS8dv', 'GATS1d', 'GATS2d', 'GATS3d', 'GATS4d', 'GATS5d', 'GATS6d', 'GATS7d', 'GATS8d', 'GATS4s', 'GATS5s', 'GATS6s', 'GATS7s', 'GATS8s', 'GATS4Z', 'GATS5Z', 'GATS6Z', 'GATS7Z', 'GATS8Z', 'GATS4m', 'GATS5m', 'GATS6m', 'GATS7m', 'GATS8m', 'GATS4v', 'GATS5v', 'GATS6v', 'GATS7v', 'GATS8v', 'GATS4se', 'GATS5se', 'GATS6se', 'GATS7se', 'GATS8se', 'GATS4pe', 'GATS5pe', 'GATS6pe', 'GATS7pe', 'GATS8pe', 'GATS4are', 'GATS5are', 'GATS6are', 'GATS7are', 'GATS8are', 'GATS4p', 'GATS5p', 'GATS6p', 'GATS7p', 'GATS8p', 'GATS4i', 'GATS5i', 'GATS6i', 'GATS7i', 'GATS8i', 'AXp-2d', 'AXp-3d', 'AXp-4d', 'AXp-5d', 'AXp-6d', 'AXp-7d', 'AXp-2dv', 'AXp-3dv', 'AXp-4dv', 'AXp-5dv', 'AXp-6dv', 'AXp-7dv', 'MAXssCH2', 'MAXsssCH', 'MAXssssC', 'MINssCH2', 'MINsssCH', 'MINssssC', 'Kier2', 'Kier3', 'MDEC-12', 'MDEC-13', 'MDEC-14', 'MDEC-22', 'MDEC-23', 'MDEC-24', 'MDEC-33', 'MDEC-34', 'MDEC-44']\n"
     ]
    }
   ],
   "source": [
    "# Remove descriptors with some NaN values\n",
    "some_nan_columns = df_desc.columns[df_desc.isna().any()].tolist()\n",
    "print(len(some_nan_columns))\n",
    "print(some_nan_columns)\n",
    "df_desc = df_desc.drop(columns=some_nan_columns)"
   ]
  },
  {
   "cell_type": "code",
   "execution_count": 11,
   "id": "d0ae5955-fb54-495f-99a6-8256741fcd56",
   "metadata": {},
   "outputs": [
    {
     "name": "stdout",
     "output_type": "stream",
     "text": [
      "405\n",
      "['nAcid', 'nBase', 'nAromAtom', 'nAromBond', 'nSpiro', 'nBridgehead', 'nHetero', 'nB', 'nN', 'nO', 'nS', 'nP', 'nF', 'nCl', 'nBr', 'nI', 'nX', 'SM1_DzZ', 'SM1_Dzm', 'SM1_Dzv', 'SM1_Dzse', 'SM1_Dzpe', 'SM1_Dzare', 'SM1_Dzp', 'SM1_Dzi', 'nBondsD', 'nBondsT', 'nBondsA', 'nBondsM', 'nBondsKD', 'C1SP1', 'C2SP1', 'C1SP2', 'C2SP2', 'C3SP2', 'HybRatio', 'FCSP3', 'Xch-3d', 'Xch-4d', 'Xch-5d', 'Xch-6d', 'Xch-7d', 'Xch-3dv', 'Xch-4dv', 'Xch-5dv', 'Xch-6dv', 'Xch-7dv', 'NsLi', 'NssBe', 'NssssBe', 'NssBH', 'NsssB', 'NssssB', 'NdCH2', 'NtCH', 'NdsCH', 'NaaCH', 'NddC', 'NtsC', 'NdssC', 'NaasC', 'NaaaC', 'NsNH3', 'NsNH2', 'NssNH2', 'NdNH', 'NssNH', 'NaaNH', 'NtN', 'NsssNH', 'NdsN', 'NaaN', 'NsssN', 'NddsN', 'NaasN', 'NssssN', 'NsOH', 'NdO', 'NssO', 'NaaO', 'NsF', 'NsSiH3', 'NssSiH2', 'NsssSiH', 'NssssSi', 'NsPH2', 'NssPH', 'NsssP', 'NdsssP', 'NsssssP', 'NsSH', 'NdS', 'NssS', 'NaaS', 'NdssS', 'NddssS', 'NsCl', 'NsGeH3', 'NssGeH2', 'NsssGeH', 'NssssGe', 'NsAsH2', 'NssAsH', 'NsssAs', 'NsssdAs', 'NsssssAs', 'NsSeH', 'NdSe', 'NssSe', 'NaaSe', 'NdssSe', 'NddssSe', 'NsBr', 'NsSnH3', 'NssSnH2', 'NsssSnH', 'NssssSn', 'NsI', 'NsPbH3', 'NssPbH2', 'NsssPbH', 'NssssPb', 'SsLi', 'SssBe', 'SssssBe', 'SssBH', 'SsssB', 'SssssB', 'SdCH2', 'StCH', 'SdsCH', 'SaaCH', 'SddC', 'StsC', 'SdssC', 'SaasC', 'SaaaC', 'SsNH3', 'SsNH2', 'SssNH2', 'SdNH', 'SssNH', 'SaaNH', 'StN', 'SsssNH', 'SdsN', 'SaaN', 'SsssN', 'SddsN', 'SaasN', 'SssssN', 'SsOH', 'SdO', 'SssO', 'SaaO', 'SsF', 'SsSiH3', 'SssSiH2', 'SsssSiH', 'SssssSi', 'SsPH2', 'SssPH', 'SsssP', 'SdsssP', 'SsssssP', 'SsSH', 'SdS', 'SssS', 'SaaS', 'SdssS', 'SddssS', 'SsCl', 'SsGeH3', 'SssGeH2', 'SsssGeH', 'SssssGe', 'SsAsH2', 'SssAsH', 'SsssAs', 'SsssdAs', 'SsssssAs', 'SsSeH', 'SdSe', 'SssSe', 'SaaSe', 'SdssSe', 'SddssSe', 'SsBr', 'SsSnH3', 'SssSnH2', 'SsssSnH', 'SssssSn', 'SsI', 'SsPbH3', 'SssPbH2', 'SsssPbH', 'SssssPb', 'AETA_alpha', 'ETA_beta_ns', 'AETA_beta_ns', 'ETA_beta_ns_d', 'AETA_beta_ns_d', 'ETA_eta_F', 'AETA_eta_F', 'ETA_eta_FL', 'AETA_eta_FL', 'ETA_dAlpha_A', 'ETA_dAlpha_B', 'ETA_dEpsilon_A', 'ETA_dEpsilon_B', 'ETA_dEpsilon_C', 'ETA_dEpsilon_D', 'ETA_dPsi_A', 'fMF', 'nHBAcc', 'nHBDon', 'PEOE_VSA1', 'PEOE_VSA2', 'PEOE_VSA3', 'PEOE_VSA4', 'PEOE_VSA5', 'PEOE_VSA8', 'PEOE_VSA9', 'PEOE_VSA10', 'PEOE_VSA11', 'PEOE_VSA12', 'PEOE_VSA13', 'SMR_VSA1', 'SMR_VSA2', 'SMR_VSA3', 'SMR_VSA6', 'SMR_VSA7', 'SMR_VSA8', 'SMR_VSA9', 'SlogP_VSA1', 'SlogP_VSA2', 'SlogP_VSA3', 'SlogP_VSA6', 'SlogP_VSA7', 'SlogP_VSA8', 'SlogP_VSA9', 'SlogP_VSA10', 'SlogP_VSA11', 'EState_VSA1', 'EState_VSA2', 'EState_VSA6', 'EState_VSA9', 'EState_VSA10', 'VSA_EState1', 'VSA_EState2', 'VSA_EState3', 'VSA_EState6', 'VSA_EState9', 'MID_h', 'AMID_h', 'MID_N', 'AMID_N', 'MID_O', 'AMID_O', 'MID_X', 'AMID_X', 'nRing', 'n3Ring', 'n4Ring', 'n5Ring', 'n6Ring', 'n7Ring', 'n8Ring', 'n9Ring', 'n10Ring', 'n11Ring', 'n12Ring', 'nG12Ring', 'nHRing', 'n3HRing', 'n4HRing', 'n5HRing', 'n6HRing', 'n7HRing', 'n8HRing', 'n9HRing', 'n10HRing', 'n11HRing', 'n12HRing', 'nG12HRing', 'naRing', 'n3aRing', 'n4aRing', 'n5aRing', 'n6aRing', 'n7aRing', 'n8aRing', 'n9aRing', 'n10aRing', 'n11aRing', 'n12aRing', 'nG12aRing', 'naHRing', 'n3aHRing', 'n4aHRing', 'n5aHRing', 'n6aHRing', 'n7aHRing', 'n8aHRing', 'n9aHRing', 'n10aHRing', 'n11aHRing', 'n12aHRing', 'nG12aHRing', 'nARing', 'n3ARing', 'n4ARing', 'n5ARing', 'n6ARing', 'n7ARing', 'n8ARing', 'n9ARing', 'n10ARing', 'n11ARing', 'n12ARing', 'nG12ARing', 'nAHRing', 'n3AHRing', 'n4AHRing', 'n5AHRing', 'n6AHRing', 'n7AHRing', 'n8AHRing', 'n9AHRing', 'n10AHRing', 'n11AHRing', 'n12AHRing', 'nG12AHRing', 'nFRing', 'n4FRing', 'n5FRing', 'n6FRing', 'n7FRing', 'n8FRing', 'n9FRing', 'n10FRing', 'n11FRing', 'n12FRing', 'nG12FRing', 'nFHRing', 'n4FHRing', 'n5FHRing', 'n6FHRing', 'n7FHRing', 'n8FHRing', 'n9FHRing', 'n10FHRing', 'n11FHRing', 'n12FHRing', 'nG12FHRing', 'nFaRing', 'n4FaRing', 'n5FaRing', 'n6FaRing', 'n7FaRing', 'n8FaRing', 'n9FaRing', 'n10FaRing', 'n11FaRing', 'n12FaRing', 'nG12FaRing', 'nFaHRing', 'n4FaHRing', 'n5FaHRing', 'n6FaHRing', 'n7FaHRing', 'n8FaHRing', 'n9FaHRing', 'n10FaHRing', 'n11FaHRing', 'n12FaHRing', 'nG12FaHRing', 'nFARing', 'n4FARing', 'n5FARing', 'n6FARing', 'n7FARing', 'n8FARing', 'n9FARing', 'n10FARing', 'n11FARing', 'n12FARing', 'nG12FARing', 'nFAHRing', 'n4FAHRing', 'n5FAHRing', 'n6FAHRing', 'n7FAHRing', 'n8FAHRing', 'n9FAHRing', 'n10FAHRing', 'n11FAHRing', 'n12FAHRing', 'nG12FAHRing', 'TopoPSA(NO)', 'TopoPSA', 'SRW03', 'SRW05', 'SRW07', 'SRW09']\n"
     ]
    }
   ],
   "source": [
    "const_cols = [col for col in df_desc.columns if df_desc[col].nunique() == 1]\n",
    "print(len(const_cols))\n",
    "print(const_cols)\n",
    "df_desc = df_desc.drop(columns=const_cols)"
   ]
  },
  {
   "cell_type": "code",
   "execution_count": 12,
   "id": "0403ca5c-cfe8-4df9-8f8e-466b1107e963",
   "metadata": {},
   "outputs": [],
   "source": [
    "df = pd.concat([df, df_desc], axis=1)"
   ]
  },
  {
   "cell_type": "code",
   "execution_count": 13,
   "id": "3012a19f-dbc0-4a56-bbfc-832305dfdcbb",
   "metadata": {},
   "outputs": [],
   "source": [
    "# df.drop(columns='Mol').to_csv(\"../data/descriptors_crc.csv\", sep=\";\",index=False)\n",
    "df = pd.read_csv('../data/descriptors_crc.csv', sep=';')"
   ]
  },
  {
   "cell_type": "code",
   "execution_count": null,
   "id": "870e0d75",
   "metadata": {},
   "outputs": [
    {
     "data": {
      "text/html": [
       "<div>\n",
       "<style scoped>\n",
       "    .dataframe tbody tr th:only-of-type {\n",
       "        vertical-align: middle;\n",
       "    }\n",
       "\n",
       "    .dataframe tbody tr th {\n",
       "        vertical-align: top;\n",
       "    }\n",
       "\n",
       "    .dataframe thead th {\n",
       "        text-align: right;\n",
       "    }\n",
       "</style>\n",
       "<table border=\"1\" class=\"dataframe\">\n",
       "  <thead>\n",
       "    <tr style=\"text-align: right;\">\n",
       "      <th></th>\n",
       "      <th>SpAbs_A</th>\n",
       "      <th>SpMax_A</th>\n",
       "      <th>SpDiam_A</th>\n",
       "      <th>SpAD_A</th>\n",
       "      <th>SpMAD_A</th>\n",
       "      <th>LogEE_A</th>\n",
       "      <th>VE1_A</th>\n",
       "      <th>VE2_A</th>\n",
       "      <th>VE3_A</th>\n",
       "      <th>VR1_A</th>\n",
       "      <th>...</th>\n",
       "      <th>SRW10</th>\n",
       "      <th>TSRW10</th>\n",
       "      <th>MW</th>\n",
       "      <th>AMW</th>\n",
       "      <th>WPath</th>\n",
       "      <th>WPol</th>\n",
       "      <th>Zagreb1</th>\n",
       "      <th>Zagreb2</th>\n",
       "      <th>mZagreb1</th>\n",
       "      <th>mZagreb2</th>\n",
       "    </tr>\n",
       "  </thead>\n",
       "  <tbody>\n",
       "    <tr>\n",
       "      <th>0</th>\n",
       "      <td>4.472136</td>\n",
       "      <td>1.618034</td>\n",
       "      <td>3.236068</td>\n",
       "      <td>4.472136</td>\n",
       "      <td>1.118034</td>\n",
       "      <td>2.155909</td>\n",
       "      <td>1.946498</td>\n",
       "      <td>0.486624</td>\n",
       "      <td>-0.250259</td>\n",
       "      <td>5.891993</td>\n",
       "      <td>...</td>\n",
       "      <td>5.509388</td>\n",
       "      <td>22.328143</td>\n",
       "      <td>58.078250</td>\n",
       "      <td>4.148446</td>\n",
       "      <td>10.0</td>\n",
       "      <td>1.0</td>\n",
       "      <td>10.0</td>\n",
       "      <td>8.0</td>\n",
       "      <td>2.5</td>\n",
       "      <td>1.25</td>\n",
       "    </tr>\n",
       "    <tr>\n",
       "      <th>1</th>\n",
       "      <td>14.592460</td>\n",
       "      <td>1.941884</td>\n",
       "      <td>3.883767</td>\n",
       "      <td>14.592460</td>\n",
       "      <td>1.216038</td>\n",
       "      <td>3.291100</td>\n",
       "      <td>3.230323</td>\n",
       "      <td>0.269194</td>\n",
       "      <td>1.354904</td>\n",
       "      <td>45.051010</td>\n",
       "      <td>...</td>\n",
       "      <td>7.720018</td>\n",
       "      <td>38.766486</td>\n",
       "      <td>170.203451</td>\n",
       "      <td>4.479038</td>\n",
       "      <td>286.0</td>\n",
       "      <td>9.0</td>\n",
       "      <td>42.0</td>\n",
       "      <td>40.0</td>\n",
       "      <td>4.5</td>\n",
       "      <td>3.25</td>\n",
       "    </tr>\n",
       "  </tbody>\n",
       "</table>\n",
       "<p>2 rows × 763 columns</p>\n",
       "</div>"
      ],
      "text/plain": [
       "     SpAbs_A   SpMax_A  SpDiam_A     SpAD_A   SpMAD_A   LogEE_A     VE1_A  \\\n",
       "0   4.472136  1.618034  3.236068   4.472136  1.118034  2.155909  1.946498   \n",
       "1  14.592460  1.941884  3.883767  14.592460  1.216038  3.291100  3.230323   \n",
       "\n",
       "      VE2_A     VE3_A      VR1_A  ...     SRW10     TSRW10          MW  \\\n",
       "0  0.486624 -0.250259   5.891993  ...  5.509388  22.328143   58.078250   \n",
       "1  0.269194  1.354904  45.051010  ...  7.720018  38.766486  170.203451   \n",
       "\n",
       "        AMW  WPath  WPol  Zagreb1  Zagreb2  mZagreb1  mZagreb2  \n",
       "0  4.148446   10.0   1.0     10.0      8.0       2.5      1.25  \n",
       "1  4.479038  286.0   9.0     42.0     40.0       4.5      3.25  \n",
       "\n",
       "[2 rows x 763 columns]"
      ]
     },
     "execution_count": 80,
     "metadata": {},
     "output_type": "execute_result"
    }
   ],
   "source": [
    "df_desc.head(2) "
   ]
  },
  {
   "cell_type": "markdown",
   "id": "5394d2ab-acef-407d-bd5b-a960053ecd9a",
   "metadata": {},
   "source": [
    "# Estimate useful descriptors with Lasso"
   ]
  },
  {
   "cell_type": "code",
   "execution_count": 15,
   "id": "f0008e5b-a81b-4381-9359-18b8a0bd7015",
   "metadata": {},
   "outputs": [],
   "source": [
    "df_lasso = df.drop(columns=['SMILES', 'IUPAC_name', 'InChIKey'])\n",
    "X = df_lasso.drop(columns=['boiling_point'])\n",
    "y = df_lasso['boiling_point']"
   ]
  },
  {
   "cell_type": "code",
   "execution_count": 16,
   "id": "0e0b4e6a-d9e5-4a43-99f7-befc67ddd86f",
   "metadata": {},
   "outputs": [],
   "source": [
    "scaler = StandardScaler()\n",
    "X_scaled = scaler.fit_transform(X)"
   ]
  },
  {
   "cell_type": "code",
   "execution_count": 17,
   "id": "f8ac920c-6f2d-4155-a7c1-378711ab2b17",
   "metadata": {},
   "outputs": [],
   "source": [
    "X_train, X_test, y_train, y_test = train_test_split(X_scaled, y, test_size=0.3, random_state=random_seed)"
   ]
  },
  {
   "cell_type": "code",
   "execution_count": 18,
   "id": "ad6dd13d-9a36-4e26-a758-09453be13e6c",
   "metadata": {},
   "outputs": [
    {
     "data": {
      "text/html": [
       "<style>#sk-container-id-1 {\n",
       "  /* Definition of color scheme common for light and dark mode */\n",
       "  --sklearn-color-text: black;\n",
       "  --sklearn-color-line: gray;\n",
       "  /* Definition of color scheme for unfitted estimators */\n",
       "  --sklearn-color-unfitted-level-0: #fff5e6;\n",
       "  --sklearn-color-unfitted-level-1: #f6e4d2;\n",
       "  --sklearn-color-unfitted-level-2: #ffe0b3;\n",
       "  --sklearn-color-unfitted-level-3: chocolate;\n",
       "  /* Definition of color scheme for fitted estimators */\n",
       "  --sklearn-color-fitted-level-0: #f0f8ff;\n",
       "  --sklearn-color-fitted-level-1: #d4ebff;\n",
       "  --sklearn-color-fitted-level-2: #b3dbfd;\n",
       "  --sklearn-color-fitted-level-3: cornflowerblue;\n",
       "\n",
       "  /* Specific color for light theme */\n",
       "  --sklearn-color-text-on-default-background: var(--sg-text-color, var(--theme-code-foreground, var(--jp-content-font-color1, black)));\n",
       "  --sklearn-color-background: var(--sg-background-color, var(--theme-background, var(--jp-layout-color0, white)));\n",
       "  --sklearn-color-border-box: var(--sg-text-color, var(--theme-code-foreground, var(--jp-content-font-color1, black)));\n",
       "  --sklearn-color-icon: #696969;\n",
       "\n",
       "  @media (prefers-color-scheme: dark) {\n",
       "    /* Redefinition of color scheme for dark theme */\n",
       "    --sklearn-color-text-on-default-background: var(--sg-text-color, var(--theme-code-foreground, var(--jp-content-font-color1, white)));\n",
       "    --sklearn-color-background: var(--sg-background-color, var(--theme-background, var(--jp-layout-color0, #111)));\n",
       "    --sklearn-color-border-box: var(--sg-text-color, var(--theme-code-foreground, var(--jp-content-font-color1, white)));\n",
       "    --sklearn-color-icon: #878787;\n",
       "  }\n",
       "}\n",
       "\n",
       "#sk-container-id-1 {\n",
       "  color: var(--sklearn-color-text);\n",
       "}\n",
       "\n",
       "#sk-container-id-1 pre {\n",
       "  padding: 0;\n",
       "}\n",
       "\n",
       "#sk-container-id-1 input.sk-hidden--visually {\n",
       "  border: 0;\n",
       "  clip: rect(1px 1px 1px 1px);\n",
       "  clip: rect(1px, 1px, 1px, 1px);\n",
       "  height: 1px;\n",
       "  margin: -1px;\n",
       "  overflow: hidden;\n",
       "  padding: 0;\n",
       "  position: absolute;\n",
       "  width: 1px;\n",
       "}\n",
       "\n",
       "#sk-container-id-1 div.sk-dashed-wrapped {\n",
       "  border: 1px dashed var(--sklearn-color-line);\n",
       "  margin: 0 0.4em 0.5em 0.4em;\n",
       "  box-sizing: border-box;\n",
       "  padding-bottom: 0.4em;\n",
       "  background-color: var(--sklearn-color-background);\n",
       "}\n",
       "\n",
       "#sk-container-id-1 div.sk-container {\n",
       "  /* jupyter's `normalize.less` sets `[hidden] { display: none; }`\n",
       "     but bootstrap.min.css set `[hidden] { display: none !important; }`\n",
       "     so we also need the `!important` here to be able to override the\n",
       "     default hidden behavior on the sphinx rendered scikit-learn.org.\n",
       "     See: https://github.com/scikit-learn/scikit-learn/issues/21755 */\n",
       "  display: inline-block !important;\n",
       "  position: relative;\n",
       "}\n",
       "\n",
       "#sk-container-id-1 div.sk-text-repr-fallback {\n",
       "  display: none;\n",
       "}\n",
       "\n",
       "div.sk-parallel-item,\n",
       "div.sk-serial,\n",
       "div.sk-item {\n",
       "  /* draw centered vertical line to link estimators */\n",
       "  background-image: linear-gradient(var(--sklearn-color-text-on-default-background), var(--sklearn-color-text-on-default-background));\n",
       "  background-size: 2px 100%;\n",
       "  background-repeat: no-repeat;\n",
       "  background-position: center center;\n",
       "}\n",
       "\n",
       "/* Parallel-specific style estimator block */\n",
       "\n",
       "#sk-container-id-1 div.sk-parallel-item::after {\n",
       "  content: \"\";\n",
       "  width: 100%;\n",
       "  border-bottom: 2px solid var(--sklearn-color-text-on-default-background);\n",
       "  flex-grow: 1;\n",
       "}\n",
       "\n",
       "#sk-container-id-1 div.sk-parallel {\n",
       "  display: flex;\n",
       "  align-items: stretch;\n",
       "  justify-content: center;\n",
       "  background-color: var(--sklearn-color-background);\n",
       "  position: relative;\n",
       "}\n",
       "\n",
       "#sk-container-id-1 div.sk-parallel-item {\n",
       "  display: flex;\n",
       "  flex-direction: column;\n",
       "}\n",
       "\n",
       "#sk-container-id-1 div.sk-parallel-item:first-child::after {\n",
       "  align-self: flex-end;\n",
       "  width: 50%;\n",
       "}\n",
       "\n",
       "#sk-container-id-1 div.sk-parallel-item:last-child::after {\n",
       "  align-self: flex-start;\n",
       "  width: 50%;\n",
       "}\n",
       "\n",
       "#sk-container-id-1 div.sk-parallel-item:only-child::after {\n",
       "  width: 0;\n",
       "}\n",
       "\n",
       "/* Serial-specific style estimator block */\n",
       "\n",
       "#sk-container-id-1 div.sk-serial {\n",
       "  display: flex;\n",
       "  flex-direction: column;\n",
       "  align-items: center;\n",
       "  background-color: var(--sklearn-color-background);\n",
       "  padding-right: 1em;\n",
       "  padding-left: 1em;\n",
       "}\n",
       "\n",
       "\n",
       "/* Toggleable style: style used for estimator/Pipeline/ColumnTransformer box that is\n",
       "clickable and can be expanded/collapsed.\n",
       "- Pipeline and ColumnTransformer use this feature and define the default style\n",
       "- Estimators will overwrite some part of the style using the `sk-estimator` class\n",
       "*/\n",
       "\n",
       "/* Pipeline and ColumnTransformer style (default) */\n",
       "\n",
       "#sk-container-id-1 div.sk-toggleable {\n",
       "  /* Default theme specific background. It is overwritten whether we have a\n",
       "  specific estimator or a Pipeline/ColumnTransformer */\n",
       "  background-color: var(--sklearn-color-background);\n",
       "}\n",
       "\n",
       "/* Toggleable label */\n",
       "#sk-container-id-1 label.sk-toggleable__label {\n",
       "  cursor: pointer;\n",
       "  display: block;\n",
       "  width: 100%;\n",
       "  margin-bottom: 0;\n",
       "  padding: 0.5em;\n",
       "  box-sizing: border-box;\n",
       "  text-align: center;\n",
       "}\n",
       "\n",
       "#sk-container-id-1 label.sk-toggleable__label-arrow:before {\n",
       "  /* Arrow on the left of the label */\n",
       "  content: \"▸\";\n",
       "  float: left;\n",
       "  margin-right: 0.25em;\n",
       "  color: var(--sklearn-color-icon);\n",
       "}\n",
       "\n",
       "#sk-container-id-1 label.sk-toggleable__label-arrow:hover:before {\n",
       "  color: var(--sklearn-color-text);\n",
       "}\n",
       "\n",
       "/* Toggleable content - dropdown */\n",
       "\n",
       "#sk-container-id-1 div.sk-toggleable__content {\n",
       "  max-height: 0;\n",
       "  max-width: 0;\n",
       "  overflow: hidden;\n",
       "  text-align: left;\n",
       "  /* unfitted */\n",
       "  background-color: var(--sklearn-color-unfitted-level-0);\n",
       "}\n",
       "\n",
       "#sk-container-id-1 div.sk-toggleable__content.fitted {\n",
       "  /* fitted */\n",
       "  background-color: var(--sklearn-color-fitted-level-0);\n",
       "}\n",
       "\n",
       "#sk-container-id-1 div.sk-toggleable__content pre {\n",
       "  margin: 0.2em;\n",
       "  border-radius: 0.25em;\n",
       "  color: var(--sklearn-color-text);\n",
       "  /* unfitted */\n",
       "  background-color: var(--sklearn-color-unfitted-level-0);\n",
       "}\n",
       "\n",
       "#sk-container-id-1 div.sk-toggleable__content.fitted pre {\n",
       "  /* unfitted */\n",
       "  background-color: var(--sklearn-color-fitted-level-0);\n",
       "}\n",
       "\n",
       "#sk-container-id-1 input.sk-toggleable__control:checked~div.sk-toggleable__content {\n",
       "  /* Expand drop-down */\n",
       "  max-height: 200px;\n",
       "  max-width: 100%;\n",
       "  overflow: auto;\n",
       "}\n",
       "\n",
       "#sk-container-id-1 input.sk-toggleable__control:checked~label.sk-toggleable__label-arrow:before {\n",
       "  content: \"▾\";\n",
       "}\n",
       "\n",
       "/* Pipeline/ColumnTransformer-specific style */\n",
       "\n",
       "#sk-container-id-1 div.sk-label input.sk-toggleable__control:checked~label.sk-toggleable__label {\n",
       "  color: var(--sklearn-color-text);\n",
       "  background-color: var(--sklearn-color-unfitted-level-2);\n",
       "}\n",
       "\n",
       "#sk-container-id-1 div.sk-label.fitted input.sk-toggleable__control:checked~label.sk-toggleable__label {\n",
       "  background-color: var(--sklearn-color-fitted-level-2);\n",
       "}\n",
       "\n",
       "/* Estimator-specific style */\n",
       "\n",
       "/* Colorize estimator box */\n",
       "#sk-container-id-1 div.sk-estimator input.sk-toggleable__control:checked~label.sk-toggleable__label {\n",
       "  /* unfitted */\n",
       "  background-color: var(--sklearn-color-unfitted-level-2);\n",
       "}\n",
       "\n",
       "#sk-container-id-1 div.sk-estimator.fitted input.sk-toggleable__control:checked~label.sk-toggleable__label {\n",
       "  /* fitted */\n",
       "  background-color: var(--sklearn-color-fitted-level-2);\n",
       "}\n",
       "\n",
       "#sk-container-id-1 div.sk-label label.sk-toggleable__label,\n",
       "#sk-container-id-1 div.sk-label label {\n",
       "  /* The background is the default theme color */\n",
       "  color: var(--sklearn-color-text-on-default-background);\n",
       "}\n",
       "\n",
       "/* On hover, darken the color of the background */\n",
       "#sk-container-id-1 div.sk-label:hover label.sk-toggleable__label {\n",
       "  color: var(--sklearn-color-text);\n",
       "  background-color: var(--sklearn-color-unfitted-level-2);\n",
       "}\n",
       "\n",
       "/* Label box, darken color on hover, fitted */\n",
       "#sk-container-id-1 div.sk-label.fitted:hover label.sk-toggleable__label.fitted {\n",
       "  color: var(--sklearn-color-text);\n",
       "  background-color: var(--sklearn-color-fitted-level-2);\n",
       "}\n",
       "\n",
       "/* Estimator label */\n",
       "\n",
       "#sk-container-id-1 div.sk-label label {\n",
       "  font-family: monospace;\n",
       "  font-weight: bold;\n",
       "  display: inline-block;\n",
       "  line-height: 1.2em;\n",
       "}\n",
       "\n",
       "#sk-container-id-1 div.sk-label-container {\n",
       "  text-align: center;\n",
       "}\n",
       "\n",
       "/* Estimator-specific */\n",
       "#sk-container-id-1 div.sk-estimator {\n",
       "  font-family: monospace;\n",
       "  border: 1px dotted var(--sklearn-color-border-box);\n",
       "  border-radius: 0.25em;\n",
       "  box-sizing: border-box;\n",
       "  margin-bottom: 0.5em;\n",
       "  /* unfitted */\n",
       "  background-color: var(--sklearn-color-unfitted-level-0);\n",
       "}\n",
       "\n",
       "#sk-container-id-1 div.sk-estimator.fitted {\n",
       "  /* fitted */\n",
       "  background-color: var(--sklearn-color-fitted-level-0);\n",
       "}\n",
       "\n",
       "/* on hover */\n",
       "#sk-container-id-1 div.sk-estimator:hover {\n",
       "  /* unfitted */\n",
       "  background-color: var(--sklearn-color-unfitted-level-2);\n",
       "}\n",
       "\n",
       "#sk-container-id-1 div.sk-estimator.fitted:hover {\n",
       "  /* fitted */\n",
       "  background-color: var(--sklearn-color-fitted-level-2);\n",
       "}\n",
       "\n",
       "/* Specification for estimator info (e.g. \"i\" and \"?\") */\n",
       "\n",
       "/* Common style for \"i\" and \"?\" */\n",
       "\n",
       ".sk-estimator-doc-link,\n",
       "a:link.sk-estimator-doc-link,\n",
       "a:visited.sk-estimator-doc-link {\n",
       "  float: right;\n",
       "  font-size: smaller;\n",
       "  line-height: 1em;\n",
       "  font-family: monospace;\n",
       "  background-color: var(--sklearn-color-background);\n",
       "  border-radius: 1em;\n",
       "  height: 1em;\n",
       "  width: 1em;\n",
       "  text-decoration: none !important;\n",
       "  margin-left: 1ex;\n",
       "  /* unfitted */\n",
       "  border: var(--sklearn-color-unfitted-level-1) 1pt solid;\n",
       "  color: var(--sklearn-color-unfitted-level-1);\n",
       "}\n",
       "\n",
       ".sk-estimator-doc-link.fitted,\n",
       "a:link.sk-estimator-doc-link.fitted,\n",
       "a:visited.sk-estimator-doc-link.fitted {\n",
       "  /* fitted */\n",
       "  border: var(--sklearn-color-fitted-level-1) 1pt solid;\n",
       "  color: var(--sklearn-color-fitted-level-1);\n",
       "}\n",
       "\n",
       "/* On hover */\n",
       "div.sk-estimator:hover .sk-estimator-doc-link:hover,\n",
       ".sk-estimator-doc-link:hover,\n",
       "div.sk-label-container:hover .sk-estimator-doc-link:hover,\n",
       ".sk-estimator-doc-link:hover {\n",
       "  /* unfitted */\n",
       "  background-color: var(--sklearn-color-unfitted-level-3);\n",
       "  color: var(--sklearn-color-background);\n",
       "  text-decoration: none;\n",
       "}\n",
       "\n",
       "div.sk-estimator.fitted:hover .sk-estimator-doc-link.fitted:hover,\n",
       ".sk-estimator-doc-link.fitted:hover,\n",
       "div.sk-label-container:hover .sk-estimator-doc-link.fitted:hover,\n",
       ".sk-estimator-doc-link.fitted:hover {\n",
       "  /* fitted */\n",
       "  background-color: var(--sklearn-color-fitted-level-3);\n",
       "  color: var(--sklearn-color-background);\n",
       "  text-decoration: none;\n",
       "}\n",
       "\n",
       "/* Span, style for the box shown on hovering the info icon */\n",
       ".sk-estimator-doc-link span {\n",
       "  display: none;\n",
       "  z-index: 9999;\n",
       "  position: relative;\n",
       "  font-weight: normal;\n",
       "  right: .2ex;\n",
       "  padding: .5ex;\n",
       "  margin: .5ex;\n",
       "  width: min-content;\n",
       "  min-width: 20ex;\n",
       "  max-width: 50ex;\n",
       "  color: var(--sklearn-color-text);\n",
       "  box-shadow: 2pt 2pt 4pt #999;\n",
       "  /* unfitted */\n",
       "  background: var(--sklearn-color-unfitted-level-0);\n",
       "  border: .5pt solid var(--sklearn-color-unfitted-level-3);\n",
       "}\n",
       "\n",
       ".sk-estimator-doc-link.fitted span {\n",
       "  /* fitted */\n",
       "  background: var(--sklearn-color-fitted-level-0);\n",
       "  border: var(--sklearn-color-fitted-level-3);\n",
       "}\n",
       "\n",
       ".sk-estimator-doc-link:hover span {\n",
       "  display: block;\n",
       "}\n",
       "\n",
       "/* \"?\"-specific style due to the `<a>` HTML tag */\n",
       "\n",
       "#sk-container-id-1 a.estimator_doc_link {\n",
       "  float: right;\n",
       "  font-size: 1rem;\n",
       "  line-height: 1em;\n",
       "  font-family: monospace;\n",
       "  background-color: var(--sklearn-color-background);\n",
       "  border-radius: 1rem;\n",
       "  height: 1rem;\n",
       "  width: 1rem;\n",
       "  text-decoration: none;\n",
       "  /* unfitted */\n",
       "  color: var(--sklearn-color-unfitted-level-1);\n",
       "  border: var(--sklearn-color-unfitted-level-1) 1pt solid;\n",
       "}\n",
       "\n",
       "#sk-container-id-1 a.estimator_doc_link.fitted {\n",
       "  /* fitted */\n",
       "  border: var(--sklearn-color-fitted-level-1) 1pt solid;\n",
       "  color: var(--sklearn-color-fitted-level-1);\n",
       "}\n",
       "\n",
       "/* On hover */\n",
       "#sk-container-id-1 a.estimator_doc_link:hover {\n",
       "  /* unfitted */\n",
       "  background-color: var(--sklearn-color-unfitted-level-3);\n",
       "  color: var(--sklearn-color-background);\n",
       "  text-decoration: none;\n",
       "}\n",
       "\n",
       "#sk-container-id-1 a.estimator_doc_link.fitted:hover {\n",
       "  /* fitted */\n",
       "  background-color: var(--sklearn-color-fitted-level-3);\n",
       "}\n",
       "</style><div id=\"sk-container-id-1\" class=\"sk-top-container\"><div class=\"sk-text-repr-fallback\"><pre>Lasso(alpha=1, random_state=4568)</pre><b>In a Jupyter environment, please rerun this cell to show the HTML representation or trust the notebook. <br />On GitHub, the HTML representation is unable to render, please try loading this page with nbviewer.org.</b></div><div class=\"sk-container\" hidden><div class=\"sk-item\"><div class=\"sk-estimator fitted sk-toggleable\"><input class=\"sk-toggleable__control sk-hidden--visually\" id=\"sk-estimator-id-1\" type=\"checkbox\" checked><label for=\"sk-estimator-id-1\" class=\"sk-toggleable__label fitted sk-toggleable__label-arrow fitted\">&nbsp;&nbsp;Lasso<a class=\"sk-estimator-doc-link fitted\" rel=\"noreferrer\" target=\"_blank\" href=\"https://scikit-learn.org/1.5/modules/generated/sklearn.linear_model.Lasso.html\">?<span>Documentation for Lasso</span></a><span class=\"sk-estimator-doc-link fitted\">i<span>Fitted</span></span></label><div class=\"sk-toggleable__content fitted\"><pre>Lasso(alpha=1, random_state=4568)</pre></div> </div></div></div></div>"
      ],
      "text/plain": [
       "Lasso(alpha=1, random_state=4568)"
      ]
     },
     "execution_count": 18,
     "metadata": {},
     "output_type": "execute_result"
    }
   ],
   "source": [
    "lasso = Lasso(alpha=1, random_state=random_seed)\n",
    "lasso.fit(X_train, y_train)"
   ]
  },
  {
   "cell_type": "code",
   "execution_count": 19,
   "id": "4db4f76d-ce2d-4963-99ce-a38ca3c2a49c",
   "metadata": {},
   "outputs": [],
   "source": [
    "selected_descriptors = X.columns[lasso.coef_ != 0]"
   ]
  },
  {
   "cell_type": "code",
   "execution_count": 20,
   "id": "354eefd3-cf81-4e7e-b45d-6cd736b77186",
   "metadata": {},
   "outputs": [
    {
     "data": {
      "text/plain": [
       "Index(['SpMAD_A', 'VE1_A', 'VE3_A', 'VR1_A', 'ATSC3s', 'AATSC3s', 'GATS1s',\n",
       "       'RPCG', 'SsssCH', 'SIC0', 'SIC1', 'BIC1', 'Lipinski', 'PEOE_VSA7',\n",
       "       'piPC3', 'piPC4', 'piPC6', 'WPath'],\n",
       "      dtype='object')"
      ]
     },
     "execution_count": 20,
     "metadata": {},
     "output_type": "execute_result"
    }
   ],
   "source": [
    "selected_descriptors"
   ]
  },
  {
   "cell_type": "markdown",
   "id": "ee444670-bcba-49b2-b77c-eb4d39fbe48c",
   "metadata": {},
   "source": [
    "# Calculate linear regression for all descriptors"
   ]
  },
  {
   "cell_type": "markdown",
   "id": "7412f134-c83d-45c8-8702-7adaaa3abbe9",
   "metadata": {},
   "source": [
    "## On unaltered descriptors"
   ]
  },
  {
   "cell_type": "code",
   "execution_count": 25,
   "id": "7c91f696-7091-4f00-986e-af7f43b8b2f6",
   "metadata": {},
   "outputs": [],
   "source": [
    "df_lr = df.drop(columns=['SMILES', 'IUPAC_name', 'InChIKey'])\n",
    "X = df_lr.drop(columns=['boiling_point'])\n",
    "y = df_lr['boiling_point']\n",
    "X_train, X_test, y_train, y_test = train_test_split(X, y, test_size=0.3, random_state=random_seed)"
   ]
  },
  {
   "cell_type": "code",
   "execution_count": 22,
   "id": "b5d79c13-e977-433a-a4e6-f944a99d9e43",
   "metadata": {},
   "outputs": [],
   "source": [
    "def evaluate_descriptor(descriptor):\n",
    "    X_train_desc = X_train[[descriptor]]\n",
    "    X_test_desc = X_test[[descriptor]]\n",
    "    \n",
    "    model = LinearRegression()\n",
    "    model.fit(X_train_desc, y_train)\n",
    "    \n",
    "    y_train_pred = model.predict(X_train_desc)\n",
    "    y_test_pred = model.predict(X_test_desc)\n",
    "    \n",
    "    metrics = {\n",
    "        \"descriptor\": descriptor,\n",
    "        \"train_MAE\": mean_absolute_error(y_train, y_train_pred),\n",
    "        \"test_MAE\": mean_absolute_error(y_test, y_test_pred),\n",
    "        \"train_RMSE\": root_mean_squared_error(y_train, y_train_pred),\n",
    "        \"test_RMSE\": root_mean_squared_error(y_test, y_test_pred),\n",
    "        \"train_R2\": r2_score(y_train, y_train_pred),\n",
    "        \"test_R2\": r2_score(y_test, y_test_pred)\n",
    "    }\n",
    "    \n",
    "    return metrics"
   ]
  },
  {
   "cell_type": "code",
   "execution_count": 27,
   "id": "75c2ac94-c2a1-44a6-b482-36c6ef2f1553",
   "metadata": {},
   "outputs": [
    {
     "name": "stderr",
     "output_type": "stream",
     "text": [
      "100%|██████████| 763/763 [00:05<00:00, 148.91it/s]\n"
     ]
    }
   ],
   "source": [
    "results = [evaluate_descriptor(desc) for desc in tqdm(X_train.columns)]"
   ]
  },
  {
   "cell_type": "code",
   "execution_count": 28,
   "id": "98774d2c-c82f-427a-95a3-edccc31075fc",
   "metadata": {},
   "outputs": [],
   "source": [
    "sorted_results = sorted(results, key=lambda x: x['test_MAE'])"
   ]
  },
  {
   "cell_type": "code",
   "execution_count": 29,
   "id": "0387d451-a339-4f86-baf9-e04b398742b4",
   "metadata": {},
   "outputs": [
    {
     "data": {
      "text/plain": [
       "[{'descriptor': 'VE1_A',\n",
       "  'train_MAE': 16.44557242928283,\n",
       "  'test_MAE': 13.197447754485966,\n",
       "  'train_RMSE': 24.250600720838236,\n",
       "  'test_RMSE': 17.24594989431946,\n",
       "  'train_R2': 0.965730268026368,\n",
       "  'test_R2': 0.9679490172542323},\n",
       " {'descriptor': 'VE3_A',\n",
       "  'train_MAE': 11.621880270001867,\n",
       "  'test_MAE': 14.282953774060674,\n",
       "  'train_RMSE': 20.90242999084126,\n",
       "  'test_RMSE': 28.82652638818768,\n",
       "  'train_R2': 0.9745399495127831,\n",
       "  'test_R2': 0.9104528566274863},\n",
       " {'descriptor': 'CIC1',\n",
       "  'train_MAE': 10.361796476040901,\n",
       "  'test_MAE': 15.321182894284046,\n",
       "  'train_RMSE': 18.72798888271521,\n",
       "  'test_RMSE': 33.96850052933904,\n",
       "  'train_R2': 0.9795615483837661,\n",
       "  'test_R2': 0.8756574232824755}]"
      ]
     },
     "execution_count": 29,
     "metadata": {},
     "output_type": "execute_result"
    }
   ],
   "source": [
    "sorted_results[:3]"
   ]
  },
  {
   "cell_type": "markdown",
   "id": "2ac6252a-d7ec-4555-bb59-d800784a4e7c",
   "metadata": {},
   "source": [
    "## On log of descriptors"
   ]
  },
  {
   "cell_type": "code",
   "execution_count": 32,
   "id": "f1ed8068-081c-4c6e-ae1a-c3b17ad05a19",
   "metadata": {},
   "outputs": [],
   "source": [
    "df_lr_log = df.drop(columns=['SMILES', 'IUPAC_name', 'InChIKey']).copy()"
   ]
  },
  {
   "cell_type": "code",
   "execution_count": 33,
   "id": "381c4591-c688-450c-b171-c08c337f30de",
   "metadata": {},
   "outputs": [],
   "source": [
    "cols = df_lr_log.columns[df_lr_log.columns != 'boiling_point']\n",
    "cols = [col for col in cols if (df_lr_log[col] > 0).all()]"
   ]
  },
  {
   "cell_type": "code",
   "execution_count": 34,
   "id": "3b1178e7-b8a1-45ae-8d14-f16bd9d70eec",
   "metadata": {},
   "outputs": [],
   "source": [
    "df_lr_log[cols] = np.log(df_lr_log[cols])"
   ]
  },
  {
   "cell_type": "code",
   "execution_count": 35,
   "id": "fc0e2977-af27-4935-bd31-ec5bb3038a48",
   "metadata": {},
   "outputs": [],
   "source": [
    "# drop columns with and NaN values\n",
    "df_lr_log = df_lr_log.dropna(axis=1)"
   ]
  },
  {
   "cell_type": "code",
   "execution_count": 36,
   "id": "093dc9b0-29e2-484c-b1d9-effd08426b24",
   "metadata": {},
   "outputs": [
    {
     "data": {
      "text/html": [
       "<div>\n",
       "<style scoped>\n",
       "    .dataframe tbody tr th:only-of-type {\n",
       "        vertical-align: middle;\n",
       "    }\n",
       "\n",
       "    .dataframe tbody tr th {\n",
       "        vertical-align: top;\n",
       "    }\n",
       "\n",
       "    .dataframe thead th {\n",
       "        text-align: right;\n",
       "    }\n",
       "</style>\n",
       "<table border=\"1\" class=\"dataframe\">\n",
       "  <thead>\n",
       "    <tr style=\"text-align: right;\">\n",
       "      <th></th>\n",
       "      <th>boiling_point</th>\n",
       "      <th>SpAbs_A</th>\n",
       "      <th>SpMax_A</th>\n",
       "      <th>SpDiam_A</th>\n",
       "      <th>SpAD_A</th>\n",
       "      <th>SpMAD_A</th>\n",
       "      <th>LogEE_A</th>\n",
       "      <th>VE1_A</th>\n",
       "      <th>VE2_A</th>\n",
       "      <th>VE3_A</th>\n",
       "      <th>...</th>\n",
       "      <th>SRW10</th>\n",
       "      <th>TSRW10</th>\n",
       "      <th>MW</th>\n",
       "      <th>AMW</th>\n",
       "      <th>WPath</th>\n",
       "      <th>WPol</th>\n",
       "      <th>Zagreb1</th>\n",
       "      <th>Zagreb2</th>\n",
       "      <th>mZagreb1</th>\n",
       "      <th>mZagreb2</th>\n",
       "    </tr>\n",
       "  </thead>\n",
       "  <tbody>\n",
       "    <tr>\n",
       "      <th>0</th>\n",
       "      <td>-0.5</td>\n",
       "      <td>1.497866</td>\n",
       "      <td>0.481212</td>\n",
       "      <td>1.174359</td>\n",
       "      <td>1.497866</td>\n",
       "      <td>0.111572</td>\n",
       "      <td>0.768212</td>\n",
       "      <td>0.666032</td>\n",
       "      <td>-0.720263</td>\n",
       "      <td>-0.250259</td>\n",
       "      <td>...</td>\n",
       "      <td>1.706454</td>\n",
       "      <td>3.105848</td>\n",
       "      <td>4.061791</td>\n",
       "      <td>1.422734</td>\n",
       "      <td>2.302585</td>\n",
       "      <td>1.0</td>\n",
       "      <td>2.302585</td>\n",
       "      <td>2.079442</td>\n",
       "      <td>0.916291</td>\n",
       "      <td>0.223144</td>\n",
       "    </tr>\n",
       "    <tr>\n",
       "      <th>1</th>\n",
       "      <td>216.3</td>\n",
       "      <td>2.680505</td>\n",
       "      <td>0.663658</td>\n",
       "      <td>1.356806</td>\n",
       "      <td>2.680505</td>\n",
       "      <td>0.195598</td>\n",
       "      <td>1.191222</td>\n",
       "      <td>1.172582</td>\n",
       "      <td>-1.312324</td>\n",
       "      <td>1.354904</td>\n",
       "      <td>...</td>\n",
       "      <td>2.043817</td>\n",
       "      <td>3.657556</td>\n",
       "      <td>5.136994</td>\n",
       "      <td>1.499408</td>\n",
       "      <td>5.655992</td>\n",
       "      <td>9.0</td>\n",
       "      <td>3.737670</td>\n",
       "      <td>3.688879</td>\n",
       "      <td>1.504077</td>\n",
       "      <td>1.178655</td>\n",
       "    </tr>\n",
       "  </tbody>\n",
       "</table>\n",
       "<p>2 rows × 764 columns</p>\n",
       "</div>"
      ],
      "text/plain": [
       "   boiling_point   SpAbs_A   SpMax_A  SpDiam_A    SpAD_A   SpMAD_A   LogEE_A  \\\n",
       "0           -0.5  1.497866  0.481212  1.174359  1.497866  0.111572  0.768212   \n",
       "1          216.3  2.680505  0.663658  1.356806  2.680505  0.195598  1.191222   \n",
       "\n",
       "      VE1_A     VE2_A     VE3_A  ...     SRW10    TSRW10        MW       AMW  \\\n",
       "0  0.666032 -0.720263 -0.250259  ...  1.706454  3.105848  4.061791  1.422734   \n",
       "1  1.172582 -1.312324  1.354904  ...  2.043817  3.657556  5.136994  1.499408   \n",
       "\n",
       "      WPath  WPol   Zagreb1   Zagreb2  mZagreb1  mZagreb2  \n",
       "0  2.302585   1.0  2.302585  2.079442  0.916291  0.223144  \n",
       "1  5.655992   9.0  3.737670  3.688879  1.504077  1.178655  \n",
       "\n",
       "[2 rows x 764 columns]"
      ]
     },
     "execution_count": 36,
     "metadata": {},
     "output_type": "execute_result"
    }
   ],
   "source": [
    "df_lr_log.head(2)"
   ]
  },
  {
   "cell_type": "code",
   "execution_count": 37,
   "id": "92b21507-9bb0-43d3-9053-547f6d21033f",
   "metadata": {},
   "outputs": [],
   "source": [
    "X = df_lr_log.drop(columns=['boiling_point'])\n",
    "y = df_lr_log['boiling_point']\n",
    "X_train, X_test, y_train, y_test = train_test_split(X, y, test_size=0.3, random_state=random_seed)"
   ]
  },
  {
   "cell_type": "code",
   "execution_count": 38,
   "id": "2c935126-f7ac-4817-a85a-4faef618096e",
   "metadata": {},
   "outputs": [
    {
     "name": "stderr",
     "output_type": "stream",
     "text": [
      "  0%|          | 0/763 [00:00<?, ?it/s]"
     ]
    },
    {
     "name": "stderr",
     "output_type": "stream",
     "text": [
      "100%|██████████| 763/763 [00:05<00:00, 151.60it/s]\n"
     ]
    }
   ],
   "source": [
    "results_log = [evaluate_descriptor(desc) for desc in tqdm(X_train.columns)]"
   ]
  },
  {
   "cell_type": "code",
   "execution_count": 39,
   "id": "f51f7f5a-c24f-4faa-9b88-4c32b6254e77",
   "metadata": {},
   "outputs": [],
   "source": [
    "sorted_results_log = sorted(results_log, key=lambda x: x['test_MAE'])"
   ]
  },
  {
   "cell_type": "code",
   "execution_count": 40,
   "id": "5c4eff32-203a-4d3a-8a32-21a722691f8b",
   "metadata": {},
   "outputs": [
    {
     "data": {
      "text/plain": [
       "[{'descriptor': 'VE1_A',\n",
       "  'train_MAE': 10.369574406975719,\n",
       "  'test_MAE': 11.176508823638747,\n",
       "  'train_RMSE': 15.9799873280265,\n",
       "  'test_RMSE': 16.26615384058518,\n",
       "  'train_R2': 0.9851194642807888,\n",
       "  'test_R2': 0.9714873973881354},\n",
       " {'descriptor': 'VE3_A',\n",
       "  'train_MAE': 11.621880270001867,\n",
       "  'test_MAE': 14.282953774060674,\n",
       "  'train_RMSE': 20.90242999084126,\n",
       "  'test_RMSE': 28.82652638818768,\n",
       "  'train_R2': 0.9745399495127831,\n",
       "  'test_R2': 0.9104528566274863},\n",
       " {'descriptor': 'SLogP',\n",
       "  'train_MAE': 10.325899364197666,\n",
       "  'test_MAE': 14.428585698813812,\n",
       "  'train_RMSE': 20.13504762055154,\n",
       "  'test_RMSE': 35.141815038706,\n",
       "  'train_R2': 0.9763750429491762,\n",
       "  'test_R2': 0.866919174046388}]"
      ]
     },
     "execution_count": 40,
     "metadata": {},
     "output_type": "execute_result"
    }
   ],
   "source": [
    "sorted_results_log[:3]"
   ]
  },
  {
   "cell_type": "markdown",
   "id": "1d31b3b3-bb11-4334-a980-5cba42129fc1",
   "metadata": {},
   "source": [
    "# VE_1A Implementation\n",
    "It is the sum of absolute values of elements of the eigenvector corresponding to the largest eigenvalue. The vector is normalized."
   ]
  },
  {
   "cell_type": "code",
   "execution_count": 41,
   "id": "7b462017-29a2-4eb4-9ede-8d50a7f4a7e0",
   "metadata": {},
   "outputs": [],
   "source": [
    "mol = Chem.MolFromSmiles('CC(C)CC')"
   ]
  },
  {
   "cell_type": "code",
   "execution_count": 42,
   "id": "0ba0f550-b885-4dbc-a7b3-9c372b9bd63d",
   "metadata": {},
   "outputs": [
    {
     "data": {
      "text/plain": [
       "array([[0, 1, 0, 0, 0],\n",
       "       [1, 0, 1, 1, 0],\n",
       "       [0, 1, 0, 0, 0],\n",
       "       [0, 1, 0, 0, 1],\n",
       "       [0, 0, 0, 1, 0]], dtype=int32)"
      ]
     },
     "execution_count": 42,
     "metadata": {},
     "output_type": "execute_result"
    }
   ],
   "source": [
    "am = Chem.rdmolops.GetAdjacencyMatrix(mol)\n",
    "am"
   ]
  },
  {
   "cell_type": "code",
   "execution_count": 43,
   "id": "f3f4f914-7341-4cca-9e57-ac9c2337f0f1",
   "metadata": {},
   "outputs": [
    {
     "name": "stdout",
     "output_type": "stream",
     "text": [
      "[-1.84775907e+00  1.84775907e+00 -7.65366865e-01 -1.87234860e-16\n",
      "  7.65366865e-01]\n",
      "_________________\n",
      "[[ 3.53553391e-01  3.53553391e-01 -3.53553391e-01  7.07106781e-01\n",
      "  -3.53553391e-01]\n",
      " [-6.53281482e-01  6.53281482e-01  2.70598050e-01 -5.15704058e-17\n",
      "  -2.70598050e-01]\n",
      " [ 3.53553391e-01  3.53553391e-01 -3.53553391e-01 -7.07106781e-01\n",
      "  -3.53553391e-01]\n",
      " [ 5.00000000e-01  5.00000000e-01  5.00000000e-01  7.59388139e-17\n",
      "   5.00000000e-01]\n",
      " [-2.70598050e-01  2.70598050e-01 -6.53281482e-01 -1.22009389e-16\n",
      "   6.53281482e-01]]\n"
     ]
    }
   ],
   "source": [
    "eigenval, eigenvect = np.linalg.eig(am)\n",
    "print(eigenval, \"_________________\", eigenvect, sep='\\n')"
   ]
  },
  {
   "cell_type": "code",
   "execution_count": 44,
   "id": "d1af54c4-0818-48c0-9c08-6c0eb00623cf",
   "metadata": {},
   "outputs": [],
   "source": [
    "def calculate_VE1(mol):\n",
    "    am = Chem.rdmolops.GetAdjacencyMatrix(mol)\n",
    "    eigenval, eigenvect = np.linalg.eigh(am)\n",
    "    max_eigenvalue_idx = np.argmax(eigenval)\n",
    "    corresponding_vector = eigenvect[:, max_eigenvalue_idx]\n",
    "    ve1 = 0\n",
    "    for i in corresponding_vector:\n",
    "        ve1 += abs(i)\n",
    "    return ve1"
   ]
  },
  {
   "cell_type": "code",
   "execution_count": 45,
   "id": "95bf9894-9e42-4656-b894-5c3987e4e2aa",
   "metadata": {},
   "outputs": [
    {
     "data": {
      "text/plain": [
       "2.130986313697834"
      ]
     },
     "execution_count": 45,
     "metadata": {},
     "output_type": "execute_result"
    }
   ],
   "source": [
    "calculate_VE1(mol)"
   ]
  },
  {
   "cell_type": "code",
   "execution_count": 46,
   "id": "d43c8fa8-976c-4a4b-8718-8550158ab200",
   "metadata": {},
   "outputs": [],
   "source": [
    "from mordred import AdjacencyMatrix"
   ]
  },
  {
   "cell_type": "code",
   "execution_count": 47,
   "id": "e0de2f9c-9e82-429d-b2a9-c5e9373b1f10",
   "metadata": {},
   "outputs": [],
   "source": [
    "calc_ve1 = Calculator(AdjacencyMatrix.AdjacencyMatrix('VE1'))"
   ]
  },
  {
   "cell_type": "code",
   "execution_count": 48,
   "id": "0e679632-99f3-44e7-a582-8c009a2549dc",
   "metadata": {},
   "outputs": [
    {
     "data": {
      "text/plain": [
       "Result(<rdkit.Chem.rdchem.Mol object at 0x000001CA5EE377D0>,[2.130986313697834],[mordred.AdjacencyMatrix.AdjacencyMatrix('VE1')])"
      ]
     },
     "execution_count": 48,
     "metadata": {},
     "output_type": "execute_result"
    }
   ],
   "source": [
    "calc_ve1(mol)"
   ]
  },
  {
   "cell_type": "code",
   "execution_count": 49,
   "id": "681cd2a7-3429-4054-adcc-2e498a5b9b41",
   "metadata": {},
   "outputs": [],
   "source": [
    "df['Mol'] = df.SMILES.apply(Chem.MolFromSmiles)\n",
    "df['VE1_A_impl'] = df.Mol.apply(calculate_VE1)\n",
    "df['VE1_A_check'] = round(df['VE1_A'], 9) == round(df['VE1_A_impl'], 9)"
   ]
  },
  {
   "cell_type": "code",
   "execution_count": 50,
   "id": "7de11093-d165-4849-b14e-83229cecd2da",
   "metadata": {},
   "outputs": [
    {
     "data": {
      "text/html": [
       "<div>\n",
       "<style scoped>\n",
       "    .dataframe tbody tr th:only-of-type {\n",
       "        vertical-align: middle;\n",
       "    }\n",
       "\n",
       "    .dataframe tbody tr th {\n",
       "        vertical-align: top;\n",
       "    }\n",
       "\n",
       "    .dataframe thead th {\n",
       "        text-align: right;\n",
       "    }\n",
       "</style>\n",
       "<table border=\"1\" class=\"dataframe\">\n",
       "  <thead>\n",
       "    <tr style=\"text-align: right;\">\n",
       "      <th></th>\n",
       "      <th>VE1_A</th>\n",
       "      <th>VE1_A_impl</th>\n",
       "      <th>VE1_A_check</th>\n",
       "    </tr>\n",
       "  </thead>\n",
       "  <tbody>\n",
       "    <tr>\n",
       "      <th>0</th>\n",
       "      <td>1.946498</td>\n",
       "      <td>1.946498</td>\n",
       "      <td>True</td>\n",
       "    </tr>\n",
       "    <tr>\n",
       "      <th>1</th>\n",
       "      <td>3.230323</td>\n",
       "      <td>3.230323</td>\n",
       "      <td>True</td>\n",
       "    </tr>\n",
       "    <tr>\n",
       "      <th>2</th>\n",
       "      <td>1.707107</td>\n",
       "      <td>1.707107</td>\n",
       "      <td>True</td>\n",
       "    </tr>\n",
       "    <tr>\n",
       "      <th>3</th>\n",
       "      <td>1.414214</td>\n",
       "      <td>1.414214</td>\n",
       "      <td>True</td>\n",
       "    </tr>\n",
       "    <tr>\n",
       "      <th>4</th>\n",
       "      <td>3.503448</td>\n",
       "      <td>3.503448</td>\n",
       "      <td>True</td>\n",
       "    </tr>\n",
       "  </tbody>\n",
       "</table>\n",
       "</div>"
      ],
      "text/plain": [
       "      VE1_A  VE1_A_impl  VE1_A_check\n",
       "0  1.946498    1.946498         True\n",
       "1  3.230323    3.230323         True\n",
       "2  1.707107    1.707107         True\n",
       "3  1.414214    1.414214         True\n",
       "4  3.503448    3.503448         True"
      ]
     },
     "execution_count": 50,
     "metadata": {},
     "output_type": "execute_result"
    }
   ],
   "source": [
    "df[['VE1_A', 'VE1_A_impl', 'VE1_A_check']].head()"
   ]
  },
  {
   "cell_type": "code",
   "execution_count": 51,
   "id": "1504fea6-2afd-47df-97ef-ae1fff4a9b73",
   "metadata": {},
   "outputs": [
    {
     "data": {
      "text/plain": [
       "0"
      ]
     },
     "execution_count": 51,
     "metadata": {},
     "output_type": "execute_result"
    }
   ],
   "source": [
    "df.shape[0] - df['VE1_A_check'].sum()"
   ]
  },
  {
   "cell_type": "markdown",
   "id": "86a80b31-a0d9-4092-9361-7cc900cc8e94",
   "metadata": {},
   "source": [
    "# Polynomial fits on unaltered descriptors"
   ]
  },
  {
   "cell_type": "code",
   "execution_count": 52,
   "id": "d3a0357d-cab6-4b62-bdee-a8a3297af559",
   "metadata": {},
   "outputs": [
    {
     "data": {
      "text/plain": [
       "0      1.946498\n",
       "1      3.230323\n",
       "2      1.707107\n",
       "3      1.414214\n",
       "4      3.503448\n",
       "         ...   \n",
       "130    2.581377\n",
       "131    2.618036\n",
       "132    3.100954\n",
       "133    2.965687\n",
       "134    2.823596\n",
       "Name: VE1_A, Length: 135, dtype: float64"
      ]
     },
     "execution_count": 52,
     "metadata": {},
     "output_type": "execute_result"
    }
   ],
   "source": [
    "df['VE1_A']"
   ]
  },
  {
   "cell_type": "code",
   "execution_count": 53,
   "id": "f2418a28-b22b-4001-8ab1-f84c12d66c6d",
   "metadata": {},
   "outputs": [],
   "source": [
    "df_lr = df.drop(columns=['SMILES', 'IUPAC_name', 'InChIKey'])\n",
    "X = df_lr.drop(columns=['boiling_point'])\n",
    "y = df_lr['boiling_point']\n",
    "X_train, X_test, y_train, y_test = train_test_split(X, y, test_size=0.3, random_state=random_seed)"
   ]
  },
  {
   "cell_type": "code",
   "execution_count": 54,
   "id": "65ab2f27-7509-41e8-b28b-44e35ea4c14f",
   "metadata": {},
   "outputs": [],
   "source": [
    "X_train_desc = X_train[['VE1_A']]\n",
    "X_test_desc = X_test[['VE1_A']]\n",
    "\n",
    "model = LinearRegression()\n",
    "model.fit(X_train_desc, y_train)\n",
    "\n",
    "y_train_pred = model.predict(X_train_desc)\n",
    "y_test_pred = model.predict(X_test_desc)\n",
    "\n",
    "metrics = {\n",
    "    \"descriptor\": 'VE1_A',\n",
    "    \"train_MAE\": mean_absolute_error(y_train, y_train_pred),\n",
    "    \"test_MAE\": mean_absolute_error(y_test, y_test_pred),\n",
    "    \"train_RMSE\": root_mean_squared_error(y_train, y_train_pred),\n",
    "    \"test_RMSE\": root_mean_squared_error(y_test, y_test_pred),\n",
    "    \"train_R2\": r2_score(y_train, y_train_pred),\n",
    "    \"test_R2\": r2_score(y_test, y_test_pred)\n",
    "}"
   ]
  },
  {
   "cell_type": "code",
   "execution_count": 55,
   "id": "e5c6b102-8b59-4fd4-a9e8-9c2a032546f9",
   "metadata": {},
   "outputs": [
    {
     "data": {
      "text/plain": [
       "{'descriptor': 'VE1_A',\n",
       " 'train_MAE': 16.44557242928283,\n",
       " 'test_MAE': 13.197447754485966,\n",
       " 'train_RMSE': 24.250600720838236,\n",
       " 'test_RMSE': 17.24594989431946,\n",
       " 'train_R2': 0.965730268026368,\n",
       " 'test_R2': 0.9679490172542323}"
      ]
     },
     "execution_count": 55,
     "metadata": {},
     "output_type": "execute_result"
    }
   ],
   "source": [
    "metrics"
   ]
  },
  {
   "cell_type": "code",
   "execution_count": 56,
   "id": "8aaf7309-f453-4a8e-b4e1-5f39e2760c75",
   "metadata": {},
   "outputs": [
    {
     "data": {
      "text/plain": [
       "array([127.92223362])"
      ]
     },
     "execution_count": 56,
     "metadata": {},
     "output_type": "execute_result"
    }
   ],
   "source": [
    "model.coef_"
   ]
  },
  {
   "cell_type": "code",
   "execution_count": 57,
   "id": "a16dedce-c35e-4e25-bbb3-948ddb1f21f8",
   "metadata": {},
   "outputs": [
    {
     "data": {
      "image/png": "[encoded data removed]",
      "text/plain": [
       "<Figure size 640x480 with 1 Axes>"
      ]
     },
     "metadata": {},
     "output_type": "display_data"
    }
   ],
   "source": [
    "plt.scatter(df.VE1_A, df.boiling_point, color='black', label='W_log', marker='o')\n",
    "plt.xlabel(\"VE1_A\")\n",
    "plt.ylabel(\"boiling point\")\n",
    "plt.show()"
   ]
  },
  {
   "cell_type": "code",
   "execution_count": 58,
   "id": "c7761718-9af4-41fe-9d76-e2f60b876bc6",
   "metadata": {},
   "outputs": [
    {
     "name": "stdout",
     "output_type": "stream",
     "text": [
      "{'descriptor': 'VE1', 'train_MAE': 7.895697398289759, 'test_MAE': 9.43924516595272, 'train_RMSE': 10.935781622638341, 'test_RMSE': 13.33281130273483, 'train_R2': 0.9930310818480118, 'test_R2': 0.9808437464930008}\n"
     ]
    }
   ],
   "source": [
    "degree = 2\n",
    "poly = PolynomialFeatures(degree=degree)\n",
    "X_train_poly = poly.fit_transform(X_train_desc)\n",
    "X_test_poly = poly.transform(X_test_desc)\n",
    "model_poly = LinearRegression().fit(X_train_poly, y_train)\n",
    "\n",
    "y_train_pred = model_poly.predict(X_train_poly)\n",
    "y_test_pred = model_poly.predict(X_test_poly)\n",
    "\n",
    "metrics = {\n",
    "        \"descriptor\": 'VE1',\n",
    "        \"train_MAE\": mean_absolute_error(y_train, y_train_pred),\n",
    "        \"test_MAE\": mean_absolute_error(y_test, y_test_pred),\n",
    "        \"train_RMSE\": root_mean_squared_error(y_train, y_train_pred),\n",
    "        \"test_RMSE\": root_mean_squared_error(y_test, y_test_pred),\n",
    "        \"train_R2\": r2_score(y_train, y_train_pred),\n",
    "        \"test_R2\": r2_score(y_test, y_test_pred)\n",
    "    }\n",
    "print(metrics)"
   ]
  },
  {
   "cell_type": "code",
   "execution_count": 59,
   "id": "f6e0a8e1-525f-4dbb-901e-d752cd6ae678",
   "metadata": {},
   "outputs": [
    {
     "data": {
      "image/png": "[encoded data removed]",
      "text/plain": [
       "<Figure size 640x480 with 1 Axes>"
      ]
     },
     "metadata": {},
     "output_type": "display_data"
    }
   ],
   "source": [
    "plt.scatter(X_train_desc, y_train, label='Train Data', color='black')\n",
    "plt.scatter(X_test_desc, y_test, label='Validation Data', color='green')\n",
    "x_fit = np.linspace(X_train_desc.min().values[0], X_train_desc.max().values[0], 100).reshape(-1, 1)\n",
    "x_fit_df = pd.DataFrame(x_fit, columns=['VE1_A'])\n",
    "y_fit = model_poly.predict(poly.transform(x_fit_df))\n",
    "plt.plot(x_fit, y_fit, color='red', label='Polynomial Fit')\n",
    "plt.xlabel('VE1_A')\n",
    "plt.ylabel('Boiling Point')\n",
    "plt.legend()\n",
    "plt.show()"
   ]
  },
  {
   "cell_type": "code",
   "execution_count": 61,
   "id": "ac22ebfb-b221-4295-89cb-2bc780d8679c",
   "metadata": {},
   "outputs": [],
   "source": [
    "def evaluate_descriptor_poly(descriptor, X_train, X_test, y_train, y_test):\n",
    "    X_train_desc = X_train[[descriptor]]\n",
    "    X_test_desc = X_test[[descriptor]]\n",
    "\n",
    "    degree = 2\n",
    "    poly = PolynomialFeatures(degree=degree)\n",
    "    X_train_poly = poly.fit_transform(X_train_desc)\n",
    "    X_test_poly = poly.transform(X_test_desc)\n",
    "    model_poly = LinearRegression().fit(X_train_poly, y_train)\n",
    "    \n",
    "    y_train_pred = model_poly.predict(X_train_poly)\n",
    "    y_test_pred = model_poly.predict(X_test_poly)\n",
    "    \n",
    "    metrics = {\n",
    "            \"descriptor\": descriptor,\n",
    "            \"train_MAE\": mean_absolute_error(y_train, y_train_pred),\n",
    "            \"test_MAE\": mean_absolute_error(y_test, y_test_pred),\n",
    "            \"train_RMSE\": root_mean_squared_error(y_train, y_train_pred),\n",
    "            \"test_RMSE\": root_mean_squared_error(y_test, y_test_pred),\n",
    "            \"train_R2\": r2_score(y_train, y_train_pred),\n",
    "            \"test_R2\": r2_score(y_test, y_test_pred)\n",
    "        }\n",
    "\n",
    "    return metrics"
   ]
  },
  {
   "cell_type": "code",
   "execution_count": 73,
   "id": "c6c400fe-8524-4e1a-9d59-fca59581950b",
   "metadata": {},
   "outputs": [
    {
     "name": "stderr",
     "output_type": "stream",
     "text": [
      "100%|██████████| 763/763 [00:05<00:00, 140.34it/s]\n"
     ]
    }
   ],
   "source": [
    "results = [evaluate_descriptor_poly(desc, X_train, X_test, y_train, y_test) for desc in tqdm(descs)]\n",
    "sorted_results = sorted(results, key=lambda x: x['test_MAE'])"
   ]
  },
  {
   "cell_type": "code",
   "execution_count": 74,
   "id": "add6e83f-a520-4b54-8005-b967c85a4863",
   "metadata": {},
   "outputs": [
    {
     "data": {
      "text/plain": [
       "[{'descriptor': 'VE1_A',\n",
       "  'train_MAE': 7.895697398289759,\n",
       "  'test_MAE': 9.43924516595272,\n",
       "  'train_RMSE': 10.935781622638341,\n",
       "  'test_RMSE': 13.33281130273483,\n",
       "  'train_R2': 0.9930310818480118,\n",
       "  'test_R2': 0.9808437464930008},\n",
       " {'descriptor': 'VE3_A',\n",
       "  'train_MAE': 10.136728429867127,\n",
       "  'test_MAE': 11.617272322781348,\n",
       "  'train_RMSE': 17.035506519371662,\n",
       "  'test_RMSE': 25.41656213322276,\n",
       "  'train_R2': 0.9830887461918917,\n",
       "  'test_R2': 0.9303853370667237},\n",
       " {'descriptor': 'VAdjMat',\n",
       "  'train_MAE': 11.158724531843985,\n",
       "  'test_MAE': 14.165729803361996,\n",
       "  'train_RMSE': 20.89824321355608,\n",
       "  'test_RMSE': 33.983379313305726,\n",
       "  'train_R2': 0.9745501478376198,\n",
       "  'test_R2': 0.8755484710774416}]"
      ]
     },
     "execution_count": 74,
     "metadata": {},
     "output_type": "execute_result"
    }
   ],
   "source": [
    "sorted_results[:3]"
   ]
  },
  {
   "cell_type": "markdown",
   "id": "61c0fed5-2acc-4a73-bdae-5125ead8c8af",
   "metadata": {},
   "source": [
    "# Polynomial fits on log of descriptors"
   ]
  },
  {
   "cell_type": "code",
   "execution_count": 76,
   "id": "a8f90ddb-ea58-4efb-8096-ddddb4276ec4",
   "metadata": {},
   "outputs": [],
   "source": [
    "df_log = df.drop(columns=['SMILES', 'IUPAC_name', 'InChIKey'])\n",
    "df_log = df_log.drop(columns=['boiling_point'])\n",
    "y = df['boiling_point']\n",
    "cols = [col for col in descs if (df_log[col] > 0).all()]\n",
    "df_log = df_log[cols]\n",
    "df_log[cols] = np.log(df_log[cols])\n",
    "df_log = df_log.dropna(axis=1)\n",
    "X_train, X_test, y_train, y_test = train_test_split(df_log, y, test_size=0.3, random_state=random_seed)"
   ]
  },
  {
   "cell_type": "code",
   "execution_count": null,
   "id": "04569083-d146-4376-96bd-b121c3985f1e",
   "metadata": {},
   "outputs": [
    {
     "name": "stderr",
     "output_type": "stream",
     "text": [
      "100%|██████████| 403/403 [00:02<00:00, 137.46it/s]\n"
     ]
    }
   ],
   "source": [
    "results_log = [evaluate_descriptor_poly(desc, X_train, X_test, y_train, y_test) for desc in tqdm(descs)]\n",
    "sorted_results_log = sorted(results_log, key=lambda x: x['test_MAE'])"
   ]
  },
  {
   "cell_type": "code",
   "execution_count": 78,
   "id": "3f4ced25-9793-4041-98a7-501a802f1234",
   "metadata": {},
   "outputs": [
    {
     "data": {
      "text/plain": [
       "[{'descriptor': 'VE1_A',\n",
       "  'train_MAE': 9.62119109284708,\n",
       "  'test_MAE': 9.612488343766213,\n",
       "  'train_RMSE': 13.056993050540541,\n",
       "  'test_RMSE': 12.900139184377265,\n",
       "  'train_R2': 0.9900653618950274,\n",
       "  'test_R2': 0.9820668780181235},\n",
       " {'descriptor': 'SLogP',\n",
       "  'train_MAE': 9.10600303992158,\n",
       "  'test_MAE': 12.320197591583709,\n",
       "  'train_RMSE': 19.015040028542835,\n",
       "  'test_RMSE': 33.95312301117519,\n",
       "  'train_R2': 0.9789302106601263,\n",
       "  'test_R2': 0.875769977407826},\n",
       " {'descriptor': 'WPath',\n",
       "  'train_MAE': 9.336567978592644,\n",
       "  'test_MAE': 12.687844375059601,\n",
       "  'train_RMSE': 18.12224940191035,\n",
       "  'test_RMSE': 32.328303504074086,\n",
       "  'train_R2': 0.9808622925505053,\n",
       "  'test_R2': 0.8873754834393368},\n",
       " {'descriptor': 'ATS3i',\n",
       "  'train_MAE': 9.358240917846175,\n",
       "  'test_MAE': 12.75647214451444,\n",
       "  'train_RMSE': 19.621181827608286,\n",
       "  'test_RMSE': 33.75251380933222,\n",
       "  'train_R2': 0.9775655188339452,\n",
       "  'test_R2': 0.8772336461145904},\n",
       " {'descriptor': 'ETA_eta_L',\n",
       "  'train_MAE': 9.202290109863224,\n",
       "  'test_MAE': 12.788797836967353,\n",
       "  'train_RMSE': 19.164361778782396,\n",
       "  'test_RMSE': 34.20204173668155,\n",
       "  'train_R2': 0.9785979966857156,\n",
       "  'test_R2': 0.873941778475333}]"
      ]
     },
     "execution_count": 78,
     "metadata": {},
     "output_type": "execute_result"
    }
   ],
   "source": [
    "sorted_results_log[:5]"
   ]
  }
 ],
 "metadata": {
  "kernelspec": {
   "display_name": "BP",
   "language": "python",
   "name": "python3"
  },
  "language_info": {
   "codemirror_mode": {
    "name": "ipython",
    "version": 3
   },
   "file_extension": ".py",
   "mimetype": "text/x-python",
   "name": "python",
   "nbconvert_exporter": "python",
   "pygments_lexer": "ipython3",
   "version": "3.12.3"
  }
 },
 "nbformat": 4,
 "nbformat_minor": 5
}
