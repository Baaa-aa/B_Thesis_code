{
 "cells": [
  {
   "cell_type": "code",
   "execution_count": 1,
   "id": "f5d4ffcf",
   "metadata": {},
   "outputs": [],
   "source": [
    "from rdkit import Chem\n",
    "import numpy as np\n",
    "import pandas as pd\n",
    "from mordred import Calculator, descriptors"
   ]
  },
  {
   "cell_type": "markdown",
   "id": "9bf08aea",
   "metadata": {},
   "source": [
    "# Load data"
   ]
  },
  {
   "cell_type": "code",
   "execution_count": 2,
   "id": "604b5cf6",
   "metadata": {},
   "outputs": [
    {
     "data": {
      "image/png": "[encoded data removed]",
      "text/html": [
       "<table><tr><td colspan=\"2\" style=\"text-align: center;\"><image src=\"data:image/png;base64,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\"></td></tr>\n",
       "<tr><th style=\"text-align: right\">boiling_point</th><td style=\"text-align: left\">242.5</td></tr>\n",
       "<tr><th style=\"text-align: right\">IUPAC_name</th><td style=\"text-align: left\">11-butyldocosane</td></tr>\n",
       "<tr><th style=\"text-align: right\">CID</th><td style=\"text-align: left\">139473</td></tr>\n",
       "<tr><th style=\"text-align: right\">molecular_formula</th><td style=\"text-align: left\">C26H54</td></tr></table>"
      ],
      "text/plain": [
       "<rdkit.Chem.rdchem.Mol at 0x2540599f8b0>"
      ]
     },
     "metadata": {},
     "output_type": "display_data"
    }
   ],
   "source": [
    "suppl = Chem.SmilesMolSupplier(\"../data/alkanes_CRC.csv\",delimiter=';',smilesColumn=2,titleLine=True,nameColumn=0)\n",
    "mols = [mol for mol in suppl if mol]\n",
    "display(mols[5])"
   ]
  },
  {
   "cell_type": "code",
   "execution_count": 3,
   "id": "d05cbae3",
   "metadata": {},
   "outputs": [],
   "source": [
    "df = pd.read_csv(\"../data/alkanes_CRC.csv\",sep=\";\")"
   ]
  },
  {
   "cell_type": "markdown",
   "id": "ff6b20af",
   "metadata": {},
   "source": [
    "# Define and calculate Zagreb indices"
   ]
  },
  {
   "cell_type": "code",
   "execution_count": 4,
   "id": "78cc20d6",
   "metadata": {},
   "outputs": [],
   "source": [
    "def calculate_zagreb_index_1(mol):\n",
    "    atoms = mol.GetAtoms()\n",
    "    sum = 0\n",
    "    for atom in atoms:\n",
    "        deg = atom.GetDegree()\n",
    "        sum += deg*deg\n",
    "    return(sum)"
   ]
  },
  {
   "cell_type": "code",
   "execution_count": 5,
   "id": "0ab56b17",
   "metadata": {},
   "outputs": [],
   "source": [
    "def calculate_zagreb_index_2(mol):\n",
    "    bonds = mol.GetBonds()\n",
    "    zi2 = 0\n",
    "    for bond in bonds:\n",
    "        a1_deg = bond.GetBeginAtom().GetDegree()\n",
    "        a2_deg = bond.GetEndAtom().GetDegree()\n",
    "        zi2 += a1_deg * a2_deg\n",
    "    return zi2"
   ]
  },
  {
   "cell_type": "code",
   "execution_count": 6,
   "id": "36b060db",
   "metadata": {},
   "outputs": [],
   "source": [
    "df['mol'] = mols\n",
    "df['M1'] = df.mol.apply(calculate_zagreb_index_1)\n",
    "df['M2'] = df.mol.apply(calculate_zagreb_index_2)\n",
    "df['InChIKey'] = df.mol.apply(Chem.inchi.MolToInchiKey)"
   ]
  },
  {
   "cell_type": "code",
   "execution_count": 7,
   "id": "442575da",
   "metadata": {},
   "outputs": [
    {
     "data": {
      "text/html": [
       "<div>\n",
       "<style scoped>\n",
       "    .dataframe tbody tr th:only-of-type {\n",
       "        vertical-align: middle;\n",
       "    }\n",
       "\n",
       "    .dataframe tbody tr th {\n",
       "        vertical-align: top;\n",
       "    }\n",
       "\n",
       "    .dataframe thead th {\n",
       "        text-align: right;\n",
       "    }\n",
       "</style>\n",
       "<table border=\"1\" class=\"dataframe\">\n",
       "  <thead>\n",
       "    <tr style=\"text-align: right;\">\n",
       "      <th></th>\n",
       "      <th>name</th>\n",
       "      <th>boiling_point</th>\n",
       "      <th>SMILES</th>\n",
       "      <th>IUPAC_name</th>\n",
       "      <th>CID</th>\n",
       "      <th>molecular_formula</th>\n",
       "      <th>mol</th>\n",
       "      <th>M1</th>\n",
       "      <th>M2</th>\n",
       "      <th>InChIKey</th>\n",
       "    </tr>\n",
       "  </thead>\n",
       "  <tbody>\n",
       "    <tr>\n",
       "      <th>0</th>\n",
       "      <td>Butane</td>\n",
       "      <td>-0.5</td>\n",
       "      <td>CCCC</td>\n",
       "      <td>butane</td>\n",
       "      <td>7843</td>\n",
       "      <td>C4H10</td>\n",
       "      <td>&lt;rdkit.Chem.rdchem.Mol object at 0x00000254059...</td>\n",
       "      <td>10</td>\n",
       "      <td>8</td>\n",
       "      <td>IJDNQMDRQITEOD-UHFFFAOYSA-N</td>\n",
       "    </tr>\n",
       "    <tr>\n",
       "      <th>1</th>\n",
       "      <td>Dodecane</td>\n",
       "      <td>216.3</td>\n",
       "      <td>CCCCCCCCCCCC</td>\n",
       "      <td>dodecane</td>\n",
       "      <td>8182</td>\n",
       "      <td>C12H26</td>\n",
       "      <td>&lt;rdkit.Chem.rdchem.Mol object at 0x00000254059...</td>\n",
       "      <td>42</td>\n",
       "      <td>40</td>\n",
       "      <td>SNRUBQQJIBEYMU-UHFFFAOYSA-N</td>\n",
       "    </tr>\n",
       "  </tbody>\n",
       "</table>\n",
       "</div>"
      ],
      "text/plain": [
       "       name  boiling_point        SMILES IUPAC_name   CID molecular_formula  \\\n",
       "0    Butane           -0.5          CCCC     butane  7843             C4H10   \n",
       "1  Dodecane          216.3  CCCCCCCCCCCC   dodecane  8182            C12H26   \n",
       "\n",
       "                                                 mol  M1  M2  \\\n",
       "0  <rdkit.Chem.rdchem.Mol object at 0x00000254059...  10   8   \n",
       "1  <rdkit.Chem.rdchem.Mol object at 0x00000254059...  42  40   \n",
       "\n",
       "                      InChIKey  \n",
       "0  IJDNQMDRQITEOD-UHFFFAOYSA-N  \n",
       "1  SNRUBQQJIBEYMU-UHFFFAOYSA-N  "
      ]
     },
     "execution_count": 7,
     "metadata": {},
     "output_type": "execute_result"
    }
   ],
   "source": [
    "df.head(2)"
   ]
  },
  {
   "cell_type": "markdown",
   "id": "21383018",
   "metadata": {},
   "source": [
    "# Compare with mordred"
   ]
  },
  {
   "cell_type": "code",
   "execution_count": 8,
   "id": "f67e8cda",
   "metadata": {},
   "outputs": [],
   "source": [
    "from mordred import ZagrebIndex"
   ]
  },
  {
   "cell_type": "code",
   "execution_count": 9,
   "id": "6ef0812e",
   "metadata": {},
   "outputs": [],
   "source": [
    "def calc_mordred_zagreb(mol,first):\n",
    "    calc = Calculator(ZagrebIndex)\n",
    "    results = calc(mol)\n",
    "    if first:\n",
    "        return int(results[0])\n",
    "    else:\n",
    "        return int(results[1])\n"
   ]
  },
  {
   "cell_type": "code",
   "execution_count": 10,
   "id": "8183114e",
   "metadata": {},
   "outputs": [],
   "source": [
    "df['M1_mordred'] = df['mol'].apply(lambda mol: calc_mordred_zagreb(mol, first=True))\n",
    "df['M2_mordred'] = df['mol'].apply(lambda mol: calc_mordred_zagreb(mol, first=False))"
   ]
  },
  {
   "cell_type": "code",
   "execution_count": 12,
   "id": "465dc93c",
   "metadata": {},
   "outputs": [
    {
     "name": "stdout",
     "output_type": "stream",
     "text": [
      "M1 is correct\n",
      "M2 is correct\n"
     ]
    },
    {
     "data": {
      "text/html": [
       "<div>\n",
       "<style scoped>\n",
       "    .dataframe tbody tr th:only-of-type {\n",
       "        vertical-align: middle;\n",
       "    }\n",
       "\n",
       "    .dataframe tbody tr th {\n",
       "        vertical-align: top;\n",
       "    }\n",
       "\n",
       "    .dataframe thead th {\n",
       "        text-align: right;\n",
       "    }\n",
       "</style>\n",
       "<table border=\"1\" class=\"dataframe\">\n",
       "  <thead>\n",
       "    <tr style=\"text-align: right;\">\n",
       "      <th></th>\n",
       "      <th>name</th>\n",
       "      <th>boiling_point</th>\n",
       "      <th>SMILES</th>\n",
       "      <th>IUPAC_name</th>\n",
       "      <th>CID</th>\n",
       "      <th>molecular_formula</th>\n",
       "      <th>mol</th>\n",
       "      <th>M1</th>\n",
       "      <th>M2</th>\n",
       "      <th>InChIKey</th>\n",
       "      <th>M1_mordred</th>\n",
       "      <th>M2_mordred</th>\n",
       "      <th>M1_equal</th>\n",
       "      <th>M2_equal</th>\n",
       "    </tr>\n",
       "  </thead>\n",
       "  <tbody>\n",
       "    <tr>\n",
       "      <th>0</th>\n",
       "      <td>Butane</td>\n",
       "      <td>-0.5</td>\n",
       "      <td>CCCC</td>\n",
       "      <td>butane</td>\n",
       "      <td>7843</td>\n",
       "      <td>C4H10</td>\n",
       "      <td>&lt;rdkit.Chem.rdchem.Mol object at 0x00000254059...</td>\n",
       "      <td>10</td>\n",
       "      <td>8</td>\n",
       "      <td>IJDNQMDRQITEOD-UHFFFAOYSA-N</td>\n",
       "      <td>10</td>\n",
       "      <td>8</td>\n",
       "      <td>True</td>\n",
       "      <td>True</td>\n",
       "    </tr>\n",
       "    <tr>\n",
       "      <th>1</th>\n",
       "      <td>Dodecane</td>\n",
       "      <td>216.3</td>\n",
       "      <td>CCCCCCCCCCCC</td>\n",
       "      <td>dodecane</td>\n",
       "      <td>8182</td>\n",
       "      <td>C12H26</td>\n",
       "      <td>&lt;rdkit.Chem.rdchem.Mol object at 0x00000254059...</td>\n",
       "      <td>42</td>\n",
       "      <td>40</td>\n",
       "      <td>SNRUBQQJIBEYMU-UHFFFAOYSA-N</td>\n",
       "      <td>42</td>\n",
       "      <td>40</td>\n",
       "      <td>True</td>\n",
       "      <td>True</td>\n",
       "    </tr>\n",
       "  </tbody>\n",
       "</table>\n",
       "</div>"
      ],
      "text/plain": [
       "       name  boiling_point        SMILES IUPAC_name   CID molecular_formula  \\\n",
       "0    Butane           -0.5          CCCC     butane  7843             C4H10   \n",
       "1  Dodecane          216.3  CCCCCCCCCCCC   dodecane  8182            C12H26   \n",
       "\n",
       "                                                 mol  M1  M2  \\\n",
       "0  <rdkit.Chem.rdchem.Mol object at 0x00000254059...  10   8   \n",
       "1  <rdkit.Chem.rdchem.Mol object at 0x00000254059...  42  40   \n",
       "\n",
       "                      InChIKey  M1_mordred  M2_mordred  M1_equal  M2_equal  \n",
       "0  IJDNQMDRQITEOD-UHFFFAOYSA-N          10           8      True      True  \n",
       "1  SNRUBQQJIBEYMU-UHFFFAOYSA-N          42          40      True      True  "
      ]
     },
     "execution_count": 12,
     "metadata": {},
     "output_type": "execute_result"
    }
   ],
   "source": [
    "# compare\n",
    "df['M1_equal'] = (df.M1 == df.M1_mordred)\n",
    "df['M2_equal'] = (df.M2 == df.M2_mordred)\n",
    "if(df.shape[0] == df.M1_equal.sum()):\n",
    "    print(\"M1 is correct\")\n",
    "if(df.shape[0] == df.M2_equal.sum()):\n",
    "    print(\"M2 is correct\")\n",
    "\n",
    "df.head(2)"
   ]
  },
  {
   "cell_type": "markdown",
   "id": "569c10e7",
   "metadata": {},
   "source": [
    "# Add number of atoms and save data"
   ]
  },
  {
   "cell_type": "code",
   "execution_count": 13,
   "id": "3e3a7c5e",
   "metadata": {},
   "outputs": [],
   "source": [
    "df['num_atoms'] = df.mol.apply(lambda mol: mol.GetNumAtoms())"
   ]
  },
  {
   "cell_type": "code",
   "execution_count": 16,
   "id": "edfb6b26",
   "metadata": {},
   "outputs": [
    {
     "data": {
      "text/html": [
       "<div>\n",
       "<style scoped>\n",
       "    .dataframe tbody tr th:only-of-type {\n",
       "        vertical-align: middle;\n",
       "    }\n",
       "\n",
       "    .dataframe tbody tr th {\n",
       "        vertical-align: top;\n",
       "    }\n",
       "\n",
       "    .dataframe thead th {\n",
       "        text-align: right;\n",
       "    }\n",
       "</style>\n",
       "<table border=\"1\" class=\"dataframe\">\n",
       "  <thead>\n",
       "    <tr style=\"text-align: right;\">\n",
       "      <th></th>\n",
       "      <th>name</th>\n",
       "      <th>boiling_point</th>\n",
       "      <th>SMILES</th>\n",
       "      <th>IUPAC_name</th>\n",
       "      <th>CID</th>\n",
       "      <th>molecular_formula</th>\n",
       "      <th>mol</th>\n",
       "      <th>M1</th>\n",
       "      <th>M2</th>\n",
       "      <th>InChIKey</th>\n",
       "      <th>M1_mordred</th>\n",
       "      <th>M2_mordred</th>\n",
       "      <th>M1_equal</th>\n",
       "      <th>M2_equal</th>\n",
       "      <th>num_atoms</th>\n",
       "    </tr>\n",
       "  </thead>\n",
       "  <tbody>\n",
       "    <tr>\n",
       "      <th>0</th>\n",
       "      <td>Butane</td>\n",
       "      <td>-0.5</td>\n",
       "      <td>CCCC</td>\n",
       "      <td>butane</td>\n",
       "      <td>7843</td>\n",
       "      <td>C4H10</td>\n",
       "      <td>&lt;rdkit.Chem.rdchem.Mol object at 0x00000254059...</td>\n",
       "      <td>10</td>\n",
       "      <td>8</td>\n",
       "      <td>IJDNQMDRQITEOD-UHFFFAOYSA-N</td>\n",
       "      <td>10</td>\n",
       "      <td>8</td>\n",
       "      <td>True</td>\n",
       "      <td>True</td>\n",
       "      <td>4</td>\n",
       "    </tr>\n",
       "    <tr>\n",
       "      <th>1</th>\n",
       "      <td>Dodecane</td>\n",
       "      <td>216.3</td>\n",
       "      <td>CCCCCCCCCCCC</td>\n",
       "      <td>dodecane</td>\n",
       "      <td>8182</td>\n",
       "      <td>C12H26</td>\n",
       "      <td>&lt;rdkit.Chem.rdchem.Mol object at 0x00000254059...</td>\n",
       "      <td>42</td>\n",
       "      <td>40</td>\n",
       "      <td>SNRUBQQJIBEYMU-UHFFFAOYSA-N</td>\n",
       "      <td>42</td>\n",
       "      <td>40</td>\n",
       "      <td>True</td>\n",
       "      <td>True</td>\n",
       "      <td>12</td>\n",
       "    </tr>\n",
       "  </tbody>\n",
       "</table>\n",
       "</div>"
      ],
      "text/plain": [
       "       name  boiling_point        SMILES IUPAC_name   CID molecular_formula  \\\n",
       "0    Butane           -0.5          CCCC     butane  7843             C4H10   \n",
       "1  Dodecane          216.3  CCCCCCCCCCCC   dodecane  8182            C12H26   \n",
       "\n",
       "                                                 mol  M1  M2  \\\n",
       "0  <rdkit.Chem.rdchem.Mol object at 0x00000254059...  10   8   \n",
       "1  <rdkit.Chem.rdchem.Mol object at 0x00000254059...  42  40   \n",
       "\n",
       "                      InChIKey  M1_mordred  M2_mordred  M1_equal  M2_equal  \\\n",
       "0  IJDNQMDRQITEOD-UHFFFAOYSA-N          10           8      True      True   \n",
       "1  SNRUBQQJIBEYMU-UHFFFAOYSA-N          42          40      True      True   \n",
       "\n",
       "   num_atoms  \n",
       "0          4  \n",
       "1         12  "
      ]
     },
     "execution_count": 16,
     "metadata": {},
     "output_type": "execute_result"
    }
   ],
   "source": [
    "df.head(2)"
   ]
  },
  {
   "cell_type": "code",
   "execution_count": 17,
   "id": "37997c9e",
   "metadata": {},
   "outputs": [],
   "source": [
    "df.drop(columns=[\"M1_mordred\", \"M2_mordred\", \"mol\", \"M1_equal\", \"M2_equal\"]).to_csv(\"../data/alkanes_with_zagreb.csv\", index=False, sep=';')"
   ]
  }
 ],
 "metadata": {
  "kernelspec": {
   "display_name": "BP",
   "language": "python",
   "name": "python3"
  },
  "language_info": {
   "codemirror_mode": {
    "name": "ipython",
    "version": 3
   },
   "file_extension": ".py",
   "mimetype": "text/x-python",
   "name": "python",
   "nbconvert_exporter": "python",
   "pygments_lexer": "ipython3",
   "version": "3.12.3"
  }
 },
 "nbformat": 4,
 "nbformat_minor": 5
}
